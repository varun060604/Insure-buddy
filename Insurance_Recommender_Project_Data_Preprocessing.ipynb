{
 "cells": [
  {
   "cell_type": "markdown",
   "metadata": {
    "id": "wp5OVfkOcM-r"
   },
   "source": [
    "<center><img src =\" https://yt3.ggpht.com/6yOAfLsCTDiA_9xEjk8bxq3UUBZ4oW7Scaabp1KndNfR9LwTtK7heYzpoA_1b1-adk4Ws56YQzo=s900-c-k-c0x00ffffff-no-rj\" width = 300px ></center>\n",
    "\n",
    "# **<center><font color='black'>Saraswati Institute of technology</font></center>**\n",
    "\n",
    "## <center><font color='red'>Diploma Final Year Project</font></center>\n",
    "\n",
    "## <center>**<font color='purple'>InsureBuddy - An Insurance Recommender System</font></center>**\n"
   ]
  },
  {
   "cell_type": "markdown",
   "metadata": {
    "id": "puFrU3KICojB"
   },
   "source": [
    "### **Author:**\n",
    "### **Varun Pandey**\n",
    "### Co-Authors:\n",
    "### 1. Stephan Bage\n",
    "### 2. Dhyan Parasiya"
   ]
  },
  {
   "cell_type": "markdown",
   "metadata": {
    "id": "6tbgd5bF7Jkn"
   },
   "source": [
    "## **<font color='purple'>`Problem Statement: To process, analyse and mine the data for useful insights in insurance product recommendation and model them using various algorithms, and deploying them into an application which would provide the user with useful insurance product recommendations`</font>**"
   ]
  },
  {
   "cell_type": "markdown",
   "metadata": {
    "id": "Vq5h7YVAcP41"
   },
   "source": [
    "##  l. Dataset Preprocessing"
   ]
  },
  {
   "cell_type": "markdown",
   "metadata": {
    "id": "ykdbw_zecWfo"
   },
   "source": [
    "## **Source of Dataset:**\n",
    "### **Zimnnat Insurance Recommendation Dataset**\n",
    "\n",
    "URL: https://zindi.africa/competitions/zimnat-insurance-recommendation-challenge\n",
    "\n",
    "<br>\n"
   ]
  },
  {
   "cell_type": "markdown",
   "metadata": {
    "id": "PCs2cau_dP-4"
   },
   "source": [
    "### Load the dataset"
   ]
  },
  {
   "cell_type": "code",
   "execution_count": 1,
   "metadata": {
    "id": "cB-glfaYcPC-"
   },
   "outputs": [],
   "source": [
    "#import all libraries\n",
    "import numpy as np\n",
    "import pandas as pd\n",
    "import matplotlib.pyplot as plt\n",
    "from itertools import cycle, islice"
   ]
  },
  {
   "cell_type": "code",
   "execution_count": 2,
   "metadata": {
    "id": "tCHgOLsnem6-"
   },
   "outputs": [],
   "source": [
    "data = pd.read_csv('D:\\\\insurance policy edited\\\\Train.csv')"
   ]
  },
  {
   "cell_type": "code",
   "execution_count": 4,
   "metadata": {
    "colab": {
     "base_uri": "https://localhost:8080/",
     "height": 224
    },
    "id": "-nE15R8sfEl7",
    "outputId": "df0f13b5-2c68-4446-c464-a46c0a09dba7"
   },
   "outputs": [
    {
     "data": {
      "text/html": [
       "<div>\n",
       "<style scoped>\n",
       "    .dataframe tbody tr th:only-of-type {\n",
       "        vertical-align: middle;\n",
       "    }\n",
       "\n",
       "    .dataframe tbody tr th {\n",
       "        vertical-align: top;\n",
       "    }\n",
       "\n",
       "    .dataframe thead th {\n",
       "        text-align: right;\n",
       "    }\n",
       "</style>\n",
       "<table border=\"1\" class=\"dataframe\">\n",
       "  <thead>\n",
       "    <tr style=\"text-align: right;\">\n",
       "      <th></th>\n",
       "      <th>ID</th>\n",
       "      <th>join_date</th>\n",
       "      <th>sex</th>\n",
       "      <th>marital_status</th>\n",
       "      <th>birth_year</th>\n",
       "      <th>branch_code</th>\n",
       "      <th>occupation_code</th>\n",
       "      <th>occupation_category_code</th>\n",
       "      <th>P5DA</th>\n",
       "      <th>RIBP</th>\n",
       "      <th>...</th>\n",
       "      <th>AHXO</th>\n",
       "      <th>BSTQ</th>\n",
       "      <th>FM3X</th>\n",
       "      <th>K6QO</th>\n",
       "      <th>QBOL</th>\n",
       "      <th>JWFN</th>\n",
       "      <th>JZ9D</th>\n",
       "      <th>J9JW</th>\n",
       "      <th>GHYX</th>\n",
       "      <th>ECY3</th>\n",
       "    </tr>\n",
       "  </thead>\n",
       "  <tbody>\n",
       "    <tr>\n",
       "      <th>0</th>\n",
       "      <td>4WKQSBB</td>\n",
       "      <td>1/2/2019</td>\n",
       "      <td>F</td>\n",
       "      <td>M</td>\n",
       "      <td>1987</td>\n",
       "      <td>1X1H</td>\n",
       "      <td>2A7I</td>\n",
       "      <td>T4MS</td>\n",
       "      <td>0</td>\n",
       "      <td>0</td>\n",
       "      <td>...</td>\n",
       "      <td>0</td>\n",
       "      <td>0</td>\n",
       "      <td>0</td>\n",
       "      <td>1</td>\n",
       "      <td>0</td>\n",
       "      <td>0</td>\n",
       "      <td>0</td>\n",
       "      <td>0</td>\n",
       "      <td>0</td>\n",
       "      <td>0</td>\n",
       "    </tr>\n",
       "    <tr>\n",
       "      <th>1</th>\n",
       "      <td>CP5S02H</td>\n",
       "      <td>1/6/2019</td>\n",
       "      <td>F</td>\n",
       "      <td>M</td>\n",
       "      <td>1981</td>\n",
       "      <td>UAOD</td>\n",
       "      <td>2A7I</td>\n",
       "      <td>T4MS</td>\n",
       "      <td>0</td>\n",
       "      <td>0</td>\n",
       "      <td>...</td>\n",
       "      <td>0</td>\n",
       "      <td>0</td>\n",
       "      <td>0</td>\n",
       "      <td>1</td>\n",
       "      <td>0</td>\n",
       "      <td>0</td>\n",
       "      <td>0</td>\n",
       "      <td>0</td>\n",
       "      <td>0</td>\n",
       "      <td>0</td>\n",
       "    </tr>\n",
       "    <tr>\n",
       "      <th>2</th>\n",
       "      <td>2YKDILJ</td>\n",
       "      <td>1/6/2013</td>\n",
       "      <td>M</td>\n",
       "      <td>U</td>\n",
       "      <td>1991</td>\n",
       "      <td>748L</td>\n",
       "      <td>QZYX</td>\n",
       "      <td>90QI</td>\n",
       "      <td>0</td>\n",
       "      <td>0</td>\n",
       "      <td>...</td>\n",
       "      <td>0</td>\n",
       "      <td>0</td>\n",
       "      <td>0</td>\n",
       "      <td>0</td>\n",
       "      <td>0</td>\n",
       "      <td>0</td>\n",
       "      <td>0</td>\n",
       "      <td>0</td>\n",
       "      <td>0</td>\n",
       "      <td>1</td>\n",
       "    </tr>\n",
       "    <tr>\n",
       "      <th>3</th>\n",
       "      <td>2S9E81J</td>\n",
       "      <td>1/8/2019</td>\n",
       "      <td>M</td>\n",
       "      <td>M</td>\n",
       "      <td>1990</td>\n",
       "      <td>1X1H</td>\n",
       "      <td>BP09</td>\n",
       "      <td>56SI</td>\n",
       "      <td>0</td>\n",
       "      <td>0</td>\n",
       "      <td>...</td>\n",
       "      <td>0</td>\n",
       "      <td>0</td>\n",
       "      <td>0</td>\n",
       "      <td>1</td>\n",
       "      <td>0</td>\n",
       "      <td>0</td>\n",
       "      <td>0</td>\n",
       "      <td>0</td>\n",
       "      <td>0</td>\n",
       "      <td>0</td>\n",
       "    </tr>\n",
       "    <tr>\n",
       "      <th>4</th>\n",
       "      <td>BHDYVFT</td>\n",
       "      <td>1/8/2019</td>\n",
       "      <td>M</td>\n",
       "      <td>M</td>\n",
       "      <td>1990</td>\n",
       "      <td>748L</td>\n",
       "      <td>NO3L</td>\n",
       "      <td>T4MS</td>\n",
       "      <td>0</td>\n",
       "      <td>0</td>\n",
       "      <td>...</td>\n",
       "      <td>0</td>\n",
       "      <td>0</td>\n",
       "      <td>0</td>\n",
       "      <td>0</td>\n",
       "      <td>0</td>\n",
       "      <td>0</td>\n",
       "      <td>1</td>\n",
       "      <td>1</td>\n",
       "      <td>0</td>\n",
       "      <td>0</td>\n",
       "    </tr>\n",
       "  </tbody>\n",
       "</table>\n",
       "<p>5 rows × 29 columns</p>\n",
       "</div>"
      ],
      "text/plain": [
       "        ID join_date sex marital_status  birth_year branch_code  \\\n",
       "0  4WKQSBB  1/2/2019   F              M        1987        1X1H   \n",
       "1  CP5S02H  1/6/2019   F              M        1981        UAOD   \n",
       "2  2YKDILJ  1/6/2013   M              U        1991        748L   \n",
       "3  2S9E81J  1/8/2019   M              M        1990        1X1H   \n",
       "4  BHDYVFT  1/8/2019   M              M        1990        748L   \n",
       "\n",
       "  occupation_code occupation_category_code  P5DA  RIBP  ...  AHXO  BSTQ  FM3X  \\\n",
       "0            2A7I                     T4MS     0     0  ...     0     0     0   \n",
       "1            2A7I                     T4MS     0     0  ...     0     0     0   \n",
       "2            QZYX                     90QI     0     0  ...     0     0     0   \n",
       "3            BP09                     56SI     0     0  ...     0     0     0   \n",
       "4            NO3L                     T4MS     0     0  ...     0     0     0   \n",
       "\n",
       "   K6QO  QBOL  JWFN  JZ9D  J9JW  GHYX  ECY3  \n",
       "0     1     0     0     0     0     0     0  \n",
       "1     1     0     0     0     0     0     0  \n",
       "2     0     0     0     0     0     0     1  \n",
       "3     1     0     0     0     0     0     0  \n",
       "4     0     0     0     1     1     0     0  \n",
       "\n",
       "[5 rows x 29 columns]"
      ]
     },
     "execution_count": 4,
     "metadata": {},
     "output_type": "execute_result"
    }
   ],
   "source": [
    "data.head()"
   ]
  },
  {
   "cell_type": "code",
   "execution_count": 5,
   "metadata": {
    "colab": {
     "base_uri": "https://localhost:8080/"
    },
    "id": "Fb9BfZQFfFzw",
    "outputId": "cc8ce3fe-3091-4ce3-91e6-69930847cd61"
   },
   "outputs": [
    {
     "name": "stdout",
     "output_type": "stream",
     "text": [
      "Training Set dimesions:  (29132, 29)\n"
     ]
    }
   ],
   "source": [
    "print(\"Training Set dimesions: \",data.shape)"
   ]
  },
  {
   "cell_type": "markdown",
   "metadata": {
    "id": "9tdK4XAEgXMo"
   },
   "source": [
    "### We have 29132 instances in our train set"
   ]
  },
  {
   "cell_type": "code",
   "execution_count": 6,
   "metadata": {
    "colab": {
     "base_uri": "https://localhost:8080/"
    },
    "id": "E_oZgA8lgMKu",
    "outputId": "726c3633-af72-4abc-a280-31ce6fc9eb52"
   },
   "outputs": [
    {
     "name": "stdout",
     "output_type": "stream",
     "text": [
      "Variable: sex  Number of Categories: 2\n",
      "Variable: marital_status  Number of Categories: 8\n",
      "Variable: branch_code  Number of Categories: 15\n",
      "Variable: occupation_code  Number of Categories: 233\n",
      "Variable: occupation_category_code  Number of Categories: 6\n"
     ]
    }
   ],
   "source": [
    "#Checking the number of Categories for Categorical Columns\n",
    "\n",
    "for cols in data.columns:\n",
    "    if data[cols].dtype == \"O\" and (cols not in [\"ID\",\"join_date\"]):\n",
    "        print(\"Variable:\",cols,\" Number of Categories:\",len(data[cols].value_counts()))"
   ]
  },
  {
   "cell_type": "markdown",
   "metadata": {
    "id": "w-0-h7-nh8Ug"
   },
   "source": [
    "### Viewing all the categories of the features given in our dataset"
   ]
  },
  {
   "cell_type": "code",
   "execution_count": 7,
   "metadata": {
    "colab": {
     "base_uri": "https://localhost:8080/"
    },
    "id": "FcLtMc9CgcpD",
    "outputId": "dae5c88a-672c-476e-8fad-e4590829e0ab"
   },
   "outputs": [
    {
     "data": {
      "text/plain": [
       "array(['F', 'M'], dtype=object)"
      ]
     },
     "execution_count": 7,
     "metadata": {},
     "output_type": "execute_result"
    }
   ],
   "source": [
    "data.sex.unique()"
   ]
  },
  {
   "cell_type": "code",
   "execution_count": 8,
   "metadata": {
    "colab": {
     "base_uri": "https://localhost:8080/"
    },
    "id": "Zi8HNOJLiEku",
    "outputId": "d11685ec-1571-4609-c8b7-2a65d1943419"
   },
   "outputs": [
    {
     "data": {
      "text/plain": [
       "array(['1X1H', 'UAOD', '748L', 'E5SW', 'XX25', 'ZFER', '30H5', '9F9T',\n",
       "       'O67J', '94KC', '49BM', 'BOAS', 'X23B', 'EU3L', 'O4JC'],\n",
       "      dtype=object)"
      ]
     },
     "execution_count": 8,
     "metadata": {},
     "output_type": "execute_result"
    }
   ],
   "source": [
    "data.branch_code.unique()"
   ]
  },
  {
   "cell_type": "code",
   "execution_count": 26,
   "metadata": {
    "colab": {
     "base_uri": "https://localhost:8080/"
    },
    "id": "D58D_NrGiKCZ",
    "outputId": "a09c0796-ab23-4467-fb0b-c67715a3d57d",
    "scrolled": false
   },
   "outputs": [
    {
     "data": {
      "text/plain": [
       "array(['2A7I', 'QZYX', 'BP09', 'NO3L', '0OJM', 'UJ5T', '0KID', 'SST3',\n",
       "       'RUFT', 'B3QW', 'P4MD', 'BPSA', 'B8W8', 'OPVX', 'PKW3', '0B60',\n",
       "       '5FPK', 'N2ZZ', '6E4H', 'F57O', 'J9SY', 'WMTK', 'YMGT', '6PE7',\n",
       "       '31JW', 'SS6D', '9IM8', 'U37O', '4W0D', 'R44Q', 'JI64', 'PMAI',\n",
       "       '73AC', 'ZKQ3', 'Y1WG', 'IQFS', 'I31I', 'U9RX', '7UDQ', 'VREH',\n",
       "       'XHJD', 'Q6J6', '2YAO', 'TUN1', 'WSID', 'OYQF', 'Q57T', 'C8F6',\n",
       "       'LQ0W', '3NHZ', 'APO0', 'IE90', 'S9KU', 'K5LB', 'F35Z', '2JHV',\n",
       "       'Q0LY', '2R78', '1NFK', 'JHU5', 'SF1X', 'JSAX', 'L4PL', 'T6AB',\n",
       "       '00MO', 'E39I', 'V4XX', 'GWEP', 'C1E3', '31GG', 'FSXG', 'WE7U',\n",
       "       '2HLT', '6XXU', '6YZA', 'WIWP', 'H1K7', 'DPRV', 'GVZ1', '8HRZ',\n",
       "       'WV7U', '5JRZ', '7KM4', '9HD1', 'RY9B', 'IJ01', '2BE6', 'XC1N',\n",
       "       'RE69', 'BWBW', '44SU', '7G9M', '734F', 'HAXM', '7UHW', 'NSJX',\n",
       "       'KPG9', 'OQMY', 'NQW1', 'WVQF', 'K5GV', 'INEJ', 'VZN9', 'RSN9',\n",
       "       'UC7E', '0PO7', '6KYM', '1MSV', '3X46', '1H8Y', 'FJBW', 'JS7M',\n",
       "       'A793', 'DZRV', 'ZCQR', 'DE5D', 'SSTX', 'PSUY', 'AQIB', '834U',\n",
       "       'WSRG', 'XVMH', 'JQH3', 'AIIN', 'K0DL', 'LGTN', 'CV2C', 'W3Y9',\n",
       "       'RXV3', 'QS0L', '738L', 'MU16', '0S50', 'FSWO', 'LAYD', 'L1P3',\n",
       "       'UBBX', 'N7K2', 'PWCW', 'QQUP', '2XZ1', '9IP9', '8Y24', 'CAAV',\n",
       "       'LLLH', 'JN20', 'IUT9', '74BF', 'IZ77', 'W1X2', 'WE0G', 'X1JO',\n",
       "       'I2OD', 'QJID', 'DHSN', 'QX54', 'IX8T', '2US6', 'VVTC', 'ZWPL',\n",
       "       'ZA1S', 'BX9E', 'NFJH', 'MEFQ', '1MB4', '1DT6', 'Q231', 'RM3L',\n",
       "       '9B5B', 'JUIP', 'Q2L0', '9FA1', 'RF6M', '2G86', '0SH6', '7UWC',\n",
       "       '820B', 'BFD1', 'YX47', 'A4ZC', 'IMHI', 'CYDC', 'FLNZ', 'Y7G1',\n",
       "       'E5PF', 'GZA8', 'S96O', 'DD8W', 'EE5R', 'AIDS', '3YQ1', '0VYC',\n",
       "       'HTQS', 'PJR4', 'NDL9', 'Z7PM', '2346', 'HJF4', '4M0E', 'PPNK',\n",
       "       '2686', '1YKL', 'KNVN', '5LNN', '374O', 'QQVA', 'NX5Y', 'URYD',\n",
       "       'M0WG', '5OVC', 'GQ0N', 'CEL6', '2MBB', 'KBWO', 'ONY7', 'VYSA',\n",
       "       'KUPK', 'OME4', 'R7GL', '1AN5', 'HSVE', 'BER4', 'OEH6', 'P2K2',\n",
       "       '6SKY', 'RH2K', 'ZHC2', 'W3ZV', 'FLXH', '6LKA', 'UYDZ', 'YJXM',\n",
       "       '59QM'], dtype=object)"
      ]
     },
     "execution_count": 26,
     "metadata": {},
     "output_type": "execute_result"
    }
   ],
   "source": [
    "data.occupation_code.unique()"
   ]
  },
  {
   "cell_type": "markdown",
   "metadata": {
    "id": "MVUORprikJtN"
   },
   "source": [
    "### Since the above attribute has lot of categories, it is not useful for us, so we will purge it"
   ]
  },
  {
   "cell_type": "code",
   "execution_count": 27,
   "metadata": {
    "id": "yV1a_6xrkIlF"
   },
   "outputs": [],
   "source": [
    "data.drop(['occupation_code'],axis = 1,inplace=True) #removed"
   ]
  },
  {
   "cell_type": "code",
   "execution_count": 28,
   "metadata": {
    "colab": {
     "base_uri": "https://localhost:8080/",
     "height": 131
    },
    "id": "Ld8QSO3hkXAC",
    "outputId": "542bc965-832b-4916-d57e-512f9ab19829"
   },
   "outputs": [
    {
     "data": {
      "text/html": [
       "<div>\n",
       "<style scoped>\n",
       "    .dataframe tbody tr th:only-of-type {\n",
       "        vertical-align: middle;\n",
       "    }\n",
       "\n",
       "    .dataframe tbody tr th {\n",
       "        vertical-align: top;\n",
       "    }\n",
       "\n",
       "    .dataframe thead th {\n",
       "        text-align: right;\n",
       "    }\n",
       "</style>\n",
       "<table border=\"1\" class=\"dataframe\">\n",
       "  <thead>\n",
       "    <tr style=\"text-align: right;\">\n",
       "      <th></th>\n",
       "      <th>ID</th>\n",
       "      <th>join_date</th>\n",
       "      <th>sex</th>\n",
       "      <th>marital_status</th>\n",
       "      <th>birth_year</th>\n",
       "      <th>branch_code</th>\n",
       "      <th>occupation_category_code</th>\n",
       "      <th>P5DA</th>\n",
       "      <th>RIBP</th>\n",
       "      <th>8NN1</th>\n",
       "      <th>...</th>\n",
       "      <th>AHXO</th>\n",
       "      <th>BSTQ</th>\n",
       "      <th>FM3X</th>\n",
       "      <th>K6QO</th>\n",
       "      <th>QBOL</th>\n",
       "      <th>JWFN</th>\n",
       "      <th>JZ9D</th>\n",
       "      <th>J9JW</th>\n",
       "      <th>GHYX</th>\n",
       "      <th>ECY3</th>\n",
       "    </tr>\n",
       "  </thead>\n",
       "  <tbody>\n",
       "    <tr>\n",
       "      <th>0</th>\n",
       "      <td>4WKQSBB</td>\n",
       "      <td>1/2/2019</td>\n",
       "      <td>F</td>\n",
       "      <td>M</td>\n",
       "      <td>1987</td>\n",
       "      <td>1X1H</td>\n",
       "      <td>T4MS</td>\n",
       "      <td>0</td>\n",
       "      <td>0</td>\n",
       "      <td>0</td>\n",
       "      <td>...</td>\n",
       "      <td>0</td>\n",
       "      <td>0</td>\n",
       "      <td>0</td>\n",
       "      <td>1</td>\n",
       "      <td>0</td>\n",
       "      <td>0</td>\n",
       "      <td>0</td>\n",
       "      <td>0</td>\n",
       "      <td>0</td>\n",
       "      <td>0</td>\n",
       "    </tr>\n",
       "    <tr>\n",
       "      <th>1</th>\n",
       "      <td>CP5S02H</td>\n",
       "      <td>1/6/2019</td>\n",
       "      <td>F</td>\n",
       "      <td>M</td>\n",
       "      <td>1981</td>\n",
       "      <td>UAOD</td>\n",
       "      <td>T4MS</td>\n",
       "      <td>0</td>\n",
       "      <td>0</td>\n",
       "      <td>0</td>\n",
       "      <td>...</td>\n",
       "      <td>0</td>\n",
       "      <td>0</td>\n",
       "      <td>0</td>\n",
       "      <td>1</td>\n",
       "      <td>0</td>\n",
       "      <td>0</td>\n",
       "      <td>0</td>\n",
       "      <td>0</td>\n",
       "      <td>0</td>\n",
       "      <td>0</td>\n",
       "    </tr>\n",
       "  </tbody>\n",
       "</table>\n",
       "<p>2 rows × 28 columns</p>\n",
       "</div>"
      ],
      "text/plain": [
       "        ID join_date sex marital_status  birth_year branch_code  \\\n",
       "0  4WKQSBB  1/2/2019   F              M        1987        1X1H   \n",
       "1  CP5S02H  1/6/2019   F              M        1981        UAOD   \n",
       "\n",
       "  occupation_category_code  P5DA  RIBP  8NN1  ...  AHXO  BSTQ  FM3X  K6QO  \\\n",
       "0                     T4MS     0     0     0  ...     0     0     0     1   \n",
       "1                     T4MS     0     0     0  ...     0     0     0     1   \n",
       "\n",
       "   QBOL  JWFN  JZ9D  J9JW  GHYX  ECY3  \n",
       "0     0     0     0     0     0     0  \n",
       "1     0     0     0     0     0     0  \n",
       "\n",
       "[2 rows x 28 columns]"
      ]
     },
     "execution_count": 28,
     "metadata": {},
     "output_type": "execute_result"
    }
   ],
   "source": [
    "data.head(2)"
   ]
  },
  {
   "cell_type": "code",
   "execution_count": 29,
   "metadata": {
    "colab": {
     "base_uri": "https://localhost:8080/"
    },
    "id": "508reK4Zkv_1",
    "outputId": "9ffb7ee2-3d81-4da7-f87a-faf56063d550"
   },
   "outputs": [
    {
     "data": {
      "text/plain": [
       "array([1987, 1981, 1991, 1990, 1984, 1977, 1995, 1985, 1994, 1958, 1986,\n",
       "       1959, 1966, 1965, 1967, 1968, 1963, 1974, 1983, 1989, 1976, 1979,\n",
       "       1957, 1993, 1973, 1996, 2000, 1988, 1982, 1972, 1978, 1962, 1975,\n",
       "       1960, 1980, 1970, 1969, 1997, 1956, 1971, 1992, 1964, 1961, 1955,\n",
       "       1998, 1999, 2001, 1938, 2005, 1953, 1954, 1948, 2002, 1952, 1947,\n",
       "       1950, 1932, 1946, 1951, 2011, 1936], dtype=int64)"
      ]
     },
     "execution_count": 29,
     "metadata": {},
     "output_type": "execute_result"
    }
   ],
   "source": [
    "data.birth_year.unique()"
   ]
  },
  {
   "cell_type": "markdown",
   "metadata": {
    "id": "FMq1bfAxldl9"
   },
   "source": [
    "### We can bin the age category into few bins such as:\n",
    "### 1. Post 2000 (2000-2020)\n",
    "### 2. 1980's - 2000's\n",
    "### 3. 1960's - 1980's\n",
    "### 4. Before 1960'sz"
   ]
  },
  {
   "cell_type": "code",
   "execution_count": 30,
   "metadata": {
    "id": "aPF5S0bslTVc"
   },
   "outputs": [],
   "source": [
    "def bin_age(x):\n",
    "  if(x > 1995):\n",
    "    return 'Below 25'\n",
    "  elif(x > 1980 and x <=1995):\n",
    "    return '25-40'\n",
    "  elif(x>= 1960 and x <=1980):\n",
    "    return '41-60'\n",
    "  elif(x < 1960):\n",
    "    return 'Above 60'"
   ]
  },
  {
   "cell_type": "code",
   "execution_count": 31,
   "metadata": {
    "id": "Xn5qQSEtnW-3"
   },
   "outputs": [],
   "source": [
    "data.birth_year = data.birth_year.apply(bin_age)"
   ]
  },
  {
   "cell_type": "code",
   "execution_count": 32,
   "metadata": {
    "colab": {
     "base_uri": "https://localhost:8080/"
    },
    "id": "VFyaAYdspmjl",
    "outputId": "934fd102-5315-483d-c093-a53a87d7d5c7"
   },
   "outputs": [
    {
     "data": {
      "text/plain": [
       "array(['T4MS', '90QI', '56SI', 'JD7X', 'L44T', 'AHH5'], dtype=object)"
      ]
     },
     "execution_count": 32,
     "metadata": {},
     "output_type": "execute_result"
    }
   ],
   "source": [
    "data.occupation_category_code.unique()"
   ]
  },
  {
   "cell_type": "code",
   "execution_count": 33,
   "metadata": {
    "colab": {
     "base_uri": "https://localhost:8080/"
    },
    "id": "pL0oyxgsrA3n",
    "outputId": "ad84c11a-d303-414a-8fb3-a85915b632ad"
   },
   "outputs": [
    {
     "data": {
      "text/plain": [
       "array(['1X1H', 'UAOD', '748L', 'E5SW', 'XX25', 'ZFER', '30H5', '9F9T',\n",
       "       'O67J', '94KC', '49BM', 'BOAS', 'X23B', 'EU3L', 'O4JC'],\n",
       "      dtype=object)"
      ]
     },
     "execution_count": 33,
     "metadata": {},
     "output_type": "execute_result"
    }
   ],
   "source": [
    "data.branch_code.unique()"
   ]
  },
  {
   "cell_type": "markdown",
   "metadata": {
    "id": "Tf1U28_ADi6J"
   },
   "source": [
    "### We can purge joined_date also since it does not seem to make any effect on the prediction"
   ]
  },
  {
   "cell_type": "code",
   "execution_count": 34,
   "metadata": {
    "id": "keEjdnhHrIxt"
   },
   "outputs": [],
   "source": [
    "data.drop(['join_date'],axis = 1,inplace=True) #removed"
   ]
  },
  {
   "cell_type": "code",
   "execution_count": 35,
   "metadata": {
    "colab": {
     "base_uri": "https://localhost:8080/",
     "height": 131
    },
    "id": "FADoEHaVD4Ek",
    "outputId": "012c3d99-423f-4cdd-edce-2379ef073311"
   },
   "outputs": [
    {
     "data": {
      "text/html": [
       "<div>\n",
       "<style scoped>\n",
       "    .dataframe tbody tr th:only-of-type {\n",
       "        vertical-align: middle;\n",
       "    }\n",
       "\n",
       "    .dataframe tbody tr th {\n",
       "        vertical-align: top;\n",
       "    }\n",
       "\n",
       "    .dataframe thead th {\n",
       "        text-align: right;\n",
       "    }\n",
       "</style>\n",
       "<table border=\"1\" class=\"dataframe\">\n",
       "  <thead>\n",
       "    <tr style=\"text-align: right;\">\n",
       "      <th></th>\n",
       "      <th>ID</th>\n",
       "      <th>sex</th>\n",
       "      <th>marital_status</th>\n",
       "      <th>birth_year</th>\n",
       "      <th>branch_code</th>\n",
       "      <th>occupation_category_code</th>\n",
       "      <th>P5DA</th>\n",
       "      <th>RIBP</th>\n",
       "      <th>8NN1</th>\n",
       "      <th>7POT</th>\n",
       "      <th>...</th>\n",
       "      <th>AHXO</th>\n",
       "      <th>BSTQ</th>\n",
       "      <th>FM3X</th>\n",
       "      <th>K6QO</th>\n",
       "      <th>QBOL</th>\n",
       "      <th>JWFN</th>\n",
       "      <th>JZ9D</th>\n",
       "      <th>J9JW</th>\n",
       "      <th>GHYX</th>\n",
       "      <th>ECY3</th>\n",
       "    </tr>\n",
       "  </thead>\n",
       "  <tbody>\n",
       "    <tr>\n",
       "      <th>0</th>\n",
       "      <td>4WKQSBB</td>\n",
       "      <td>F</td>\n",
       "      <td>M</td>\n",
       "      <td>25-40</td>\n",
       "      <td>1X1H</td>\n",
       "      <td>T4MS</td>\n",
       "      <td>0</td>\n",
       "      <td>0</td>\n",
       "      <td>0</td>\n",
       "      <td>0</td>\n",
       "      <td>...</td>\n",
       "      <td>0</td>\n",
       "      <td>0</td>\n",
       "      <td>0</td>\n",
       "      <td>1</td>\n",
       "      <td>0</td>\n",
       "      <td>0</td>\n",
       "      <td>0</td>\n",
       "      <td>0</td>\n",
       "      <td>0</td>\n",
       "      <td>0</td>\n",
       "    </tr>\n",
       "    <tr>\n",
       "      <th>1</th>\n",
       "      <td>CP5S02H</td>\n",
       "      <td>F</td>\n",
       "      <td>M</td>\n",
       "      <td>25-40</td>\n",
       "      <td>UAOD</td>\n",
       "      <td>T4MS</td>\n",
       "      <td>0</td>\n",
       "      <td>0</td>\n",
       "      <td>0</td>\n",
       "      <td>0</td>\n",
       "      <td>...</td>\n",
       "      <td>0</td>\n",
       "      <td>0</td>\n",
       "      <td>0</td>\n",
       "      <td>1</td>\n",
       "      <td>0</td>\n",
       "      <td>0</td>\n",
       "      <td>0</td>\n",
       "      <td>0</td>\n",
       "      <td>0</td>\n",
       "      <td>0</td>\n",
       "    </tr>\n",
       "  </tbody>\n",
       "</table>\n",
       "<p>2 rows × 27 columns</p>\n",
       "</div>"
      ],
      "text/plain": [
       "        ID sex marital_status birth_year branch_code occupation_category_code  \\\n",
       "0  4WKQSBB   F              M      25-40        1X1H                     T4MS   \n",
       "1  CP5S02H   F              M      25-40        UAOD                     T4MS   \n",
       "\n",
       "   P5DA  RIBP  8NN1  7POT  ...  AHXO  BSTQ  FM3X  K6QO  QBOL  JWFN  JZ9D  \\\n",
       "0     0     0     0     0  ...     0     0     0     1     0     0     0   \n",
       "1     0     0     0     0  ...     0     0     0     1     0     0     0   \n",
       "\n",
       "   J9JW  GHYX  ECY3  \n",
       "0     0     0     0  \n",
       "1     0     0     0  \n",
       "\n",
       "[2 rows x 27 columns]"
      ]
     },
     "execution_count": 35,
     "metadata": {},
     "output_type": "execute_result"
    }
   ],
   "source": [
    "data.head(2)"
   ]
  },
  {
   "cell_type": "markdown",
   "metadata": {
    "id": "ErvkZ3B7RPaV"
   },
   "source": [
    "### Dropping branch_code since it does not make any sense to ask a non-customer while recommending product"
   ]
  },
  {
   "cell_type": "code",
   "execution_count": 36,
   "metadata": {
    "id": "A7efka0YRO0O"
   },
   "outputs": [],
   "source": [
    "data.drop(['branch_code'],axis = 1,inplace=True) #removed"
   ]
  },
  {
   "cell_type": "code",
   "execution_count": 37,
   "metadata": {
    "colab": {
     "base_uri": "https://localhost:8080/",
     "height": 131
    },
    "id": "yQTBr7YBSKAc",
    "outputId": "2b5bf317-29cf-4de3-d688-da9045332b33"
   },
   "outputs": [
    {
     "data": {
      "text/html": [
       "<div>\n",
       "<style scoped>\n",
       "    .dataframe tbody tr th:only-of-type {\n",
       "        vertical-align: middle;\n",
       "    }\n",
       "\n",
       "    .dataframe tbody tr th {\n",
       "        vertical-align: top;\n",
       "    }\n",
       "\n",
       "    .dataframe thead th {\n",
       "        text-align: right;\n",
       "    }\n",
       "</style>\n",
       "<table border=\"1\" class=\"dataframe\">\n",
       "  <thead>\n",
       "    <tr style=\"text-align: right;\">\n",
       "      <th></th>\n",
       "      <th>ID</th>\n",
       "      <th>sex</th>\n",
       "      <th>marital_status</th>\n",
       "      <th>birth_year</th>\n",
       "      <th>occupation_category_code</th>\n",
       "      <th>P5DA</th>\n",
       "      <th>RIBP</th>\n",
       "      <th>8NN1</th>\n",
       "      <th>7POT</th>\n",
       "      <th>66FJ</th>\n",
       "      <th>...</th>\n",
       "      <th>AHXO</th>\n",
       "      <th>BSTQ</th>\n",
       "      <th>FM3X</th>\n",
       "      <th>K6QO</th>\n",
       "      <th>QBOL</th>\n",
       "      <th>JWFN</th>\n",
       "      <th>JZ9D</th>\n",
       "      <th>J9JW</th>\n",
       "      <th>GHYX</th>\n",
       "      <th>ECY3</th>\n",
       "    </tr>\n",
       "  </thead>\n",
       "  <tbody>\n",
       "    <tr>\n",
       "      <th>0</th>\n",
       "      <td>4WKQSBB</td>\n",
       "      <td>F</td>\n",
       "      <td>M</td>\n",
       "      <td>25-40</td>\n",
       "      <td>T4MS</td>\n",
       "      <td>0</td>\n",
       "      <td>0</td>\n",
       "      <td>0</td>\n",
       "      <td>0</td>\n",
       "      <td>0</td>\n",
       "      <td>...</td>\n",
       "      <td>0</td>\n",
       "      <td>0</td>\n",
       "      <td>0</td>\n",
       "      <td>1</td>\n",
       "      <td>0</td>\n",
       "      <td>0</td>\n",
       "      <td>0</td>\n",
       "      <td>0</td>\n",
       "      <td>0</td>\n",
       "      <td>0</td>\n",
       "    </tr>\n",
       "    <tr>\n",
       "      <th>1</th>\n",
       "      <td>CP5S02H</td>\n",
       "      <td>F</td>\n",
       "      <td>M</td>\n",
       "      <td>25-40</td>\n",
       "      <td>T4MS</td>\n",
       "      <td>0</td>\n",
       "      <td>0</td>\n",
       "      <td>0</td>\n",
       "      <td>0</td>\n",
       "      <td>0</td>\n",
       "      <td>...</td>\n",
       "      <td>0</td>\n",
       "      <td>0</td>\n",
       "      <td>0</td>\n",
       "      <td>1</td>\n",
       "      <td>0</td>\n",
       "      <td>0</td>\n",
       "      <td>0</td>\n",
       "      <td>0</td>\n",
       "      <td>0</td>\n",
       "      <td>0</td>\n",
       "    </tr>\n",
       "  </tbody>\n",
       "</table>\n",
       "<p>2 rows × 26 columns</p>\n",
       "</div>"
      ],
      "text/plain": [
       "        ID sex marital_status birth_year occupation_category_code  P5DA  RIBP  \\\n",
       "0  4WKQSBB   F              M      25-40                     T4MS     0     0   \n",
       "1  CP5S02H   F              M      25-40                     T4MS     0     0   \n",
       "\n",
       "   8NN1  7POT  66FJ  ...  AHXO  BSTQ  FM3X  K6QO  QBOL  JWFN  JZ9D  J9JW  \\\n",
       "0     0     0     0  ...     0     0     0     1     0     0     0     0   \n",
       "1     0     0     0  ...     0     0     0     1     0     0     0     0   \n",
       "\n",
       "   GHYX  ECY3  \n",
       "0     0     0  \n",
       "1     0     0  \n",
       "\n",
       "[2 rows x 26 columns]"
      ]
     },
     "execution_count": 37,
     "metadata": {},
     "output_type": "execute_result"
    }
   ],
   "source": [
    "data.head(2)"
   ]
  },
  {
   "cell_type": "markdown",
   "metadata": {
    "id": "nMykixPeSYeq"
   },
   "source": [
    "### Renaming all the policies of the dataset for better readability"
   ]
  },
  {
   "cell_type": "code",
   "execution_count": 38,
   "metadata": {
    "colab": {
     "base_uri": "https://localhost:8080/"
    },
    "id": "X-Ys1NVdSefy",
    "outputId": "cbd23473-c773-4f1a-f24b-2f6bd777676d"
   },
   "outputs": [
    {
     "data": {
      "text/plain": [
       "Index(['ID', 'sex', 'marital_status', 'birth_year', 'occupation_category_code',\n",
       "       'P5DA', 'RIBP', '8NN1', '7POT', '66FJ', 'GYSR', 'SOP4', 'RVSZ', 'PYUQ',\n",
       "       'LJR9', 'N2MW', 'AHXO', 'BSTQ', 'FM3X', 'K6QO', 'QBOL', 'JWFN', 'JZ9D',\n",
       "       'J9JW', 'GHYX', 'ECY3'],\n",
       "      dtype='object')"
      ]
     },
     "execution_count": 38,
     "metadata": {},
     "output_type": "execute_result"
    }
   ],
   "source": [
    "col_list = data.columns\n",
    "col_list"
   ]
  },
  {
   "cell_type": "code",
   "execution_count": 39,
   "metadata": {
    "id": "6UmxgoUoSjZO"
   },
   "outputs": [],
   "source": [
    "col_list = ['ID', 'sex', 'marital_status', 'age_group', 'occupation_category_code',\\\n",
    "       'Policy 1', 'Policy 2', 'Policy 3', 'Policy 4', 'Policy 5', 'Policy 6', 'Policy 7', 'Policy 8', 'Policy 9',\\\n",
    "       'Policy 10', 'Policy 11', 'Policy 12', 'Policy 13', 'Policy 14', 'Policy 15', 'Policy 16', 'Policy 17', 'Policy 18',\\\n",
    "       'Policy 19', 'Policy 20', 'Policy 21']"
   ]
  },
  {
   "cell_type": "code",
   "execution_count": 40,
   "metadata": {
    "id": "pAeSv5vSTNDC"
   },
   "outputs": [],
   "source": [
    "data.columns = col_list"
   ]
  },
  {
   "cell_type": "code",
   "execution_count": 41,
   "metadata": {
    "colab": {
     "base_uri": "https://localhost:8080/",
     "height": 241
    },
    "id": "RHlJGc6bTQMm",
    "outputId": "609e79ac-11c4-47e1-a476-5e67e3cdb7ee"
   },
   "outputs": [
    {
     "data": {
      "text/html": [
       "<div>\n",
       "<style scoped>\n",
       "    .dataframe tbody tr th:only-of-type {\n",
       "        vertical-align: middle;\n",
       "    }\n",
       "\n",
       "    .dataframe tbody tr th {\n",
       "        vertical-align: top;\n",
       "    }\n",
       "\n",
       "    .dataframe thead th {\n",
       "        text-align: right;\n",
       "    }\n",
       "</style>\n",
       "<table border=\"1\" class=\"dataframe\">\n",
       "  <thead>\n",
       "    <tr style=\"text-align: right;\">\n",
       "      <th></th>\n",
       "      <th>ID</th>\n",
       "      <th>sex</th>\n",
       "      <th>marital_status</th>\n",
       "      <th>age_group</th>\n",
       "      <th>occupation_category_code</th>\n",
       "      <th>Policy 1</th>\n",
       "      <th>Policy 2</th>\n",
       "      <th>Policy 3</th>\n",
       "      <th>Policy 4</th>\n",
       "      <th>Policy 5</th>\n",
       "      <th>...</th>\n",
       "      <th>Policy 12</th>\n",
       "      <th>Policy 13</th>\n",
       "      <th>Policy 14</th>\n",
       "      <th>Policy 15</th>\n",
       "      <th>Policy 16</th>\n",
       "      <th>Policy 17</th>\n",
       "      <th>Policy 18</th>\n",
       "      <th>Policy 19</th>\n",
       "      <th>Policy 20</th>\n",
       "      <th>Policy 21</th>\n",
       "    </tr>\n",
       "  </thead>\n",
       "  <tbody>\n",
       "    <tr>\n",
       "      <th>0</th>\n",
       "      <td>4WKQSBB</td>\n",
       "      <td>F</td>\n",
       "      <td>M</td>\n",
       "      <td>25-40</td>\n",
       "      <td>T4MS</td>\n",
       "      <td>0</td>\n",
       "      <td>0</td>\n",
       "      <td>0</td>\n",
       "      <td>0</td>\n",
       "      <td>0</td>\n",
       "      <td>...</td>\n",
       "      <td>0</td>\n",
       "      <td>0</td>\n",
       "      <td>0</td>\n",
       "      <td>1</td>\n",
       "      <td>0</td>\n",
       "      <td>0</td>\n",
       "      <td>0</td>\n",
       "      <td>0</td>\n",
       "      <td>0</td>\n",
       "      <td>0</td>\n",
       "    </tr>\n",
       "    <tr>\n",
       "      <th>1</th>\n",
       "      <td>CP5S02H</td>\n",
       "      <td>F</td>\n",
       "      <td>M</td>\n",
       "      <td>25-40</td>\n",
       "      <td>T4MS</td>\n",
       "      <td>0</td>\n",
       "      <td>0</td>\n",
       "      <td>0</td>\n",
       "      <td>0</td>\n",
       "      <td>0</td>\n",
       "      <td>...</td>\n",
       "      <td>0</td>\n",
       "      <td>0</td>\n",
       "      <td>0</td>\n",
       "      <td>1</td>\n",
       "      <td>0</td>\n",
       "      <td>0</td>\n",
       "      <td>0</td>\n",
       "      <td>0</td>\n",
       "      <td>0</td>\n",
       "      <td>0</td>\n",
       "    </tr>\n",
       "    <tr>\n",
       "      <th>2</th>\n",
       "      <td>2YKDILJ</td>\n",
       "      <td>M</td>\n",
       "      <td>U</td>\n",
       "      <td>25-40</td>\n",
       "      <td>90QI</td>\n",
       "      <td>0</td>\n",
       "      <td>0</td>\n",
       "      <td>0</td>\n",
       "      <td>0</td>\n",
       "      <td>0</td>\n",
       "      <td>...</td>\n",
       "      <td>0</td>\n",
       "      <td>0</td>\n",
       "      <td>0</td>\n",
       "      <td>0</td>\n",
       "      <td>0</td>\n",
       "      <td>0</td>\n",
       "      <td>0</td>\n",
       "      <td>0</td>\n",
       "      <td>0</td>\n",
       "      <td>1</td>\n",
       "    </tr>\n",
       "    <tr>\n",
       "      <th>3</th>\n",
       "      <td>2S9E81J</td>\n",
       "      <td>M</td>\n",
       "      <td>M</td>\n",
       "      <td>25-40</td>\n",
       "      <td>56SI</td>\n",
       "      <td>0</td>\n",
       "      <td>0</td>\n",
       "      <td>0</td>\n",
       "      <td>0</td>\n",
       "      <td>0</td>\n",
       "      <td>...</td>\n",
       "      <td>0</td>\n",
       "      <td>0</td>\n",
       "      <td>0</td>\n",
       "      <td>1</td>\n",
       "      <td>0</td>\n",
       "      <td>0</td>\n",
       "      <td>0</td>\n",
       "      <td>0</td>\n",
       "      <td>0</td>\n",
       "      <td>0</td>\n",
       "    </tr>\n",
       "    <tr>\n",
       "      <th>4</th>\n",
       "      <td>BHDYVFT</td>\n",
       "      <td>M</td>\n",
       "      <td>M</td>\n",
       "      <td>25-40</td>\n",
       "      <td>T4MS</td>\n",
       "      <td>0</td>\n",
       "      <td>0</td>\n",
       "      <td>0</td>\n",
       "      <td>0</td>\n",
       "      <td>0</td>\n",
       "      <td>...</td>\n",
       "      <td>0</td>\n",
       "      <td>0</td>\n",
       "      <td>0</td>\n",
       "      <td>0</td>\n",
       "      <td>0</td>\n",
       "      <td>0</td>\n",
       "      <td>1</td>\n",
       "      <td>1</td>\n",
       "      <td>0</td>\n",
       "      <td>0</td>\n",
       "    </tr>\n",
       "  </tbody>\n",
       "</table>\n",
       "<p>5 rows × 26 columns</p>\n",
       "</div>"
      ],
      "text/plain": [
       "        ID sex marital_status age_group occupation_category_code  Policy 1  \\\n",
       "0  4WKQSBB   F              M     25-40                     T4MS         0   \n",
       "1  CP5S02H   F              M     25-40                     T4MS         0   \n",
       "2  2YKDILJ   M              U     25-40                     90QI         0   \n",
       "3  2S9E81J   M              M     25-40                     56SI         0   \n",
       "4  BHDYVFT   M              M     25-40                     T4MS         0   \n",
       "\n",
       "   Policy 2  Policy 3  Policy 4  Policy 5  ...  Policy 12  Policy 13  \\\n",
       "0         0         0         0         0  ...          0          0   \n",
       "1         0         0         0         0  ...          0          0   \n",
       "2         0         0         0         0  ...          0          0   \n",
       "3         0         0         0         0  ...          0          0   \n",
       "4         0         0         0         0  ...          0          0   \n",
       "\n",
       "   Policy 14  Policy 15  Policy 16  Policy 17  Policy 18  Policy 19  \\\n",
       "0          0          1          0          0          0          0   \n",
       "1          0          1          0          0          0          0   \n",
       "2          0          0          0          0          0          0   \n",
       "3          0          1          0          0          0          0   \n",
       "4          0          0          0          0          1          1   \n",
       "\n",
       "   Policy 20  Policy 21  \n",
       "0          0          0  \n",
       "1          0          0  \n",
       "2          0          1  \n",
       "3          0          0  \n",
       "4          0          0  \n",
       "\n",
       "[5 rows x 26 columns]"
      ]
     },
     "execution_count": 41,
     "metadata": {},
     "output_type": "execute_result"
    }
   ],
   "source": [
    "data.head()"
   ]
  },
  {
   "cell_type": "markdown",
   "metadata": {
    "id": "Kw_dw7RWQo9T"
   },
   "source": [
    "\n",
    "### We shall now do some Exploratory Data Analysis by plotting graphs"
   ]
  },
  {
   "cell_type": "markdown",
   "metadata": {
    "id": "KU01D7lpTvit"
   },
   "source": [
    "### We will start off by visualizing number of users from different categories"
   ]
  },
  {
   "cell_type": "markdown",
   "metadata": {
    "id": "5-380vCipJKW"
   },
   "source": [
    "### We can see the occupation that has largest insurance userbase above\n",
    "\n",
    "### we shall rename the occupations as follows:\n",
    "\n",
    "1. T4MS - Corporate Employee\n",
    "2. 90QI - Self Employed\n",
    "3. 56SI - Medical Professional\n",
    "4. L44T - Enterpreneur\n",
    "5. JD7X - Military Service\n",
    "6. AHH5 - Other\n",
    "\n",
    "#### **Here we shall explain the description of occupations of people:**\n",
    "\n",
    "#### Corporate Employee - A person working at an Organization(Private,PSU,Govt.,other etc)\n",
    "\n",
    "#### Self Employed - A person engaged in his own profession., eg., artist, stock broker, real estate agent, consultant,freelance jobs, etc\n",
    "\n",
    "#### Medical Professional - Doctors working at clinics or Hospitals Come in this category\n",
    "\n",
    "#### Military Service - Persons Engaged in Defense sectors,etc\n",
    "\n",
    "#### Enterpreneur - Running own business (shop, MSME, small company,etc)\n",
    "#### Other - any other occupation not covered above\n",
    "\n"
   ]
  },
  {
   "cell_type": "code",
   "execution_count": 42,
   "metadata": {
    "id": "czddsJAgpFaa"
   },
   "outputs": [],
   "source": [
    "#performing label encoding on the occupation set\n",
    "\n",
    "def encode_occupation(x):\n",
    "  if(x == 'T4MS'):\n",
    "    return 'Corporate Employee'\n",
    "  elif(x == '90QI'):\n",
    "    return 'Self Employed'\n",
    "  elif(x == '56SI'):\n",
    "    return 'Medical Professional'\n",
    "  elif(x == 'L44T'):\n",
    "    return 'Enterpreneur'\n",
    "  elif(x == 'JD7X'):\n",
    "    return 'Military Service'\n",
    "  elif(x == 'AHH5'):\n",
    "    return 'Other'"
   ]
  },
  {
   "cell_type": "code",
   "execution_count": 43,
   "metadata": {
    "id": "YYAppJ4IrArr"
   },
   "outputs": [],
   "source": [
    "data.occupation_category_code = data.occupation_category_code.apply(encode_occupation)"
   ]
  },
  {
   "cell_type": "code",
   "execution_count": 44,
   "metadata": {
    "colab": {
     "base_uri": "https://localhost:8080/"
    },
    "id": "Qm1_ZcDvEaJv",
    "outputId": "ee3d2d89-b077-44bf-e975-d3c48b2fdd6b"
   },
   "outputs": [
    {
     "data": {
      "text/plain": [
       "Corporate Employee      18619\n",
       "Self Employed            5552\n",
       "Medical Professional     3655\n",
       "Enterpreneur              628\n",
       "Military Service          576\n",
       "Other                     102\n",
       "Name: occupation_category_code, dtype: int64"
      ]
     },
     "execution_count": 44,
     "metadata": {},
     "output_type": "execute_result"
    }
   ],
   "source": [
    "data.occupation_category_code.value_counts()"
   ]
  },
  {
   "cell_type": "code",
   "execution_count": 45,
   "metadata": {
    "colab": {
     "base_uri": "https://localhost:8080/",
     "height": 387
    },
    "id": "FywWR0IU6rad",
    "outputId": "9ce037c5-2211-40db-94ad-df5894f12dce"
   },
   "outputs": [
    {
     "data": {
      "image/png": "[encoded data removed]",
      "text/plain": [
       "<Figure size 432x288 with 1 Axes>"
      ]
     },
     "metadata": {
      "needs_background": "light"
     },
     "output_type": "display_data"
    }
   ],
   "source": [
    "data.occupation_category_code.value_counts().plot.bar(title = \"Counts of users from different occupations\",color=['blue', 'red', 'green', 'blue', 'yellow','cyan'] , xlabel = \"Categories of occupations\", ylabel = \"Count\")\n",
    "plt.show()"
   ]
  },
  {
   "cell_type": "markdown",
   "metadata": {
    "id": "OgnM6ka8EnY3"
   },
   "source": [
    "### We can purge the other occupation category, since it is insignificant"
   ]
  },
  {
   "cell_type": "code",
   "execution_count": 46,
   "metadata": {
    "id": "Qpascp5XFTsb"
   },
   "outputs": [],
   "source": [
    "data = data[data.occupation_category_code != 'Other']"
   ]
  },
  {
   "cell_type": "code",
   "execution_count": 47,
   "metadata": {
    "colab": {
     "base_uri": "https://localhost:8080/"
    },
    "id": "ZaQqChAQFlFG",
    "outputId": "7b036607-2073-4bc1-d0d0-de37a2f5845b"
   },
   "outputs": [
    {
     "data": {
      "text/plain": [
       "Corporate Employee      18619\n",
       "Self Employed            5552\n",
       "Medical Professional     3655\n",
       "Enterpreneur              628\n",
       "Military Service          576\n",
       "Name: occupation_category_code, dtype: int64"
      ]
     },
     "execution_count": 47,
     "metadata": {},
     "output_type": "execute_result"
    }
   ],
   "source": [
    "data.occupation_category_code.value_counts()"
   ]
  },
  {
   "cell_type": "code",
   "execution_count": 48,
   "metadata": {
    "colab": {
     "base_uri": "https://localhost:8080/",
     "height": 241
    },
    "id": "QR4YND2TrC-i",
    "outputId": "ddf25a08-237b-4df4-d6b2-e5a5a90ab776"
   },
   "outputs": [
    {
     "data": {
      "text/html": [
       "<div>\n",
       "<style scoped>\n",
       "    .dataframe tbody tr th:only-of-type {\n",
       "        vertical-align: middle;\n",
       "    }\n",
       "\n",
       "    .dataframe tbody tr th {\n",
       "        vertical-align: top;\n",
       "    }\n",
       "\n",
       "    .dataframe thead th {\n",
       "        text-align: right;\n",
       "    }\n",
       "</style>\n",
       "<table border=\"1\" class=\"dataframe\">\n",
       "  <thead>\n",
       "    <tr style=\"text-align: right;\">\n",
       "      <th></th>\n",
       "      <th>ID</th>\n",
       "      <th>sex</th>\n",
       "      <th>marital_status</th>\n",
       "      <th>age_group</th>\n",
       "      <th>occupation_category_code</th>\n",
       "      <th>Policy 1</th>\n",
       "      <th>Policy 2</th>\n",
       "      <th>Policy 3</th>\n",
       "      <th>Policy 4</th>\n",
       "      <th>Policy 5</th>\n",
       "      <th>...</th>\n",
       "      <th>Policy 12</th>\n",
       "      <th>Policy 13</th>\n",
       "      <th>Policy 14</th>\n",
       "      <th>Policy 15</th>\n",
       "      <th>Policy 16</th>\n",
       "      <th>Policy 17</th>\n",
       "      <th>Policy 18</th>\n",
       "      <th>Policy 19</th>\n",
       "      <th>Policy 20</th>\n",
       "      <th>Policy 21</th>\n",
       "    </tr>\n",
       "  </thead>\n",
       "  <tbody>\n",
       "    <tr>\n",
       "      <th>0</th>\n",
       "      <td>4WKQSBB</td>\n",
       "      <td>F</td>\n",
       "      <td>M</td>\n",
       "      <td>25-40</td>\n",
       "      <td>Corporate Employee</td>\n",
       "      <td>0</td>\n",
       "      <td>0</td>\n",
       "      <td>0</td>\n",
       "      <td>0</td>\n",
       "      <td>0</td>\n",
       "      <td>...</td>\n",
       "      <td>0</td>\n",
       "      <td>0</td>\n",
       "      <td>0</td>\n",
       "      <td>1</td>\n",
       "      <td>0</td>\n",
       "      <td>0</td>\n",
       "      <td>0</td>\n",
       "      <td>0</td>\n",
       "      <td>0</td>\n",
       "      <td>0</td>\n",
       "    </tr>\n",
       "    <tr>\n",
       "      <th>1</th>\n",
       "      <td>CP5S02H</td>\n",
       "      <td>F</td>\n",
       "      <td>M</td>\n",
       "      <td>25-40</td>\n",
       "      <td>Corporate Employee</td>\n",
       "      <td>0</td>\n",
       "      <td>0</td>\n",
       "      <td>0</td>\n",
       "      <td>0</td>\n",
       "      <td>0</td>\n",
       "      <td>...</td>\n",
       "      <td>0</td>\n",
       "      <td>0</td>\n",
       "      <td>0</td>\n",
       "      <td>1</td>\n",
       "      <td>0</td>\n",
       "      <td>0</td>\n",
       "      <td>0</td>\n",
       "      <td>0</td>\n",
       "      <td>0</td>\n",
       "      <td>0</td>\n",
       "    </tr>\n",
       "    <tr>\n",
       "      <th>2</th>\n",
       "      <td>2YKDILJ</td>\n",
       "      <td>M</td>\n",
       "      <td>U</td>\n",
       "      <td>25-40</td>\n",
       "      <td>Self Employed</td>\n",
       "      <td>0</td>\n",
       "      <td>0</td>\n",
       "      <td>0</td>\n",
       "      <td>0</td>\n",
       "      <td>0</td>\n",
       "      <td>...</td>\n",
       "      <td>0</td>\n",
       "      <td>0</td>\n",
       "      <td>0</td>\n",
       "      <td>0</td>\n",
       "      <td>0</td>\n",
       "      <td>0</td>\n",
       "      <td>0</td>\n",
       "      <td>0</td>\n",
       "      <td>0</td>\n",
       "      <td>1</td>\n",
       "    </tr>\n",
       "    <tr>\n",
       "      <th>3</th>\n",
       "      <td>2S9E81J</td>\n",
       "      <td>M</td>\n",
       "      <td>M</td>\n",
       "      <td>25-40</td>\n",
       "      <td>Medical Professional</td>\n",
       "      <td>0</td>\n",
       "      <td>0</td>\n",
       "      <td>0</td>\n",
       "      <td>0</td>\n",
       "      <td>0</td>\n",
       "      <td>...</td>\n",
       "      <td>0</td>\n",
       "      <td>0</td>\n",
       "      <td>0</td>\n",
       "      <td>1</td>\n",
       "      <td>0</td>\n",
       "      <td>0</td>\n",
       "      <td>0</td>\n",
       "      <td>0</td>\n",
       "      <td>0</td>\n",
       "      <td>0</td>\n",
       "    </tr>\n",
       "    <tr>\n",
       "      <th>4</th>\n",
       "      <td>BHDYVFT</td>\n",
       "      <td>M</td>\n",
       "      <td>M</td>\n",
       "      <td>25-40</td>\n",
       "      <td>Corporate Employee</td>\n",
       "      <td>0</td>\n",
       "      <td>0</td>\n",
       "      <td>0</td>\n",
       "      <td>0</td>\n",
       "      <td>0</td>\n",
       "      <td>...</td>\n",
       "      <td>0</td>\n",
       "      <td>0</td>\n",
       "      <td>0</td>\n",
       "      <td>0</td>\n",
       "      <td>0</td>\n",
       "      <td>0</td>\n",
       "      <td>1</td>\n",
       "      <td>1</td>\n",
       "      <td>0</td>\n",
       "      <td>0</td>\n",
       "    </tr>\n",
       "  </tbody>\n",
       "</table>\n",
       "<p>5 rows × 26 columns</p>\n",
       "</div>"
      ],
      "text/plain": [
       "        ID sex marital_status age_group occupation_category_code  Policy 1  \\\n",
       "0  4WKQSBB   F              M     25-40       Corporate Employee         0   \n",
       "1  CP5S02H   F              M     25-40       Corporate Employee         0   \n",
       "2  2YKDILJ   M              U     25-40            Self Employed         0   \n",
       "3  2S9E81J   M              M     25-40     Medical Professional         0   \n",
       "4  BHDYVFT   M              M     25-40       Corporate Employee         0   \n",
       "\n",
       "   Policy 2  Policy 3  Policy 4  Policy 5  ...  Policy 12  Policy 13  \\\n",
       "0         0         0         0         0  ...          0          0   \n",
       "1         0         0         0         0  ...          0          0   \n",
       "2         0         0         0         0  ...          0          0   \n",
       "3         0         0         0         0  ...          0          0   \n",
       "4         0         0         0         0  ...          0          0   \n",
       "\n",
       "   Policy 14  Policy 15  Policy 16  Policy 17  Policy 18  Policy 19  \\\n",
       "0          0          1          0          0          0          0   \n",
       "1          0          1          0          0          0          0   \n",
       "2          0          0          0          0          0          0   \n",
       "3          0          1          0          0          0          0   \n",
       "4          0          0          0          0          1          1   \n",
       "\n",
       "   Policy 20  Policy 21  \n",
       "0          0          0  \n",
       "1          0          0  \n",
       "2          0          1  \n",
       "3          0          0  \n",
       "4          0          0  \n",
       "\n",
       "[5 rows x 26 columns]"
      ]
     },
     "execution_count": 48,
     "metadata": {},
     "output_type": "execute_result"
    }
   ],
   "source": [
    "data.head()"
   ]
  },
  {
   "cell_type": "code",
   "execution_count": 49,
   "metadata": {
    "colab": {
     "base_uri": "https://localhost:8080/",
     "height": 264
    },
    "id": "06lekjk8tzaX",
    "outputId": "23b02533-7d9a-4ed6-c5d8-867536c21012"
   },
   "outputs": [
    {
     "data": {
      "image/png": "[encoded data removed]",
      "text/plain": [
       "<Figure size 432x288 with 1 Axes>"
      ]
     },
     "metadata": {},
     "output_type": "display_data"
    }
   ],
   "source": [
    "data_ = data.sex.value_counts().index\n",
    "counts = data.sex.value_counts().values\n",
    "explode = (0.1,0.1) \n",
    "fig1, ax1 = plt.subplots()\n",
    "ax1.pie(counts, explode=explode, autopct='%1.1f%%',\n",
    "        shadow=True, startangle=90)\n",
    "# Equal aspect ratio ensures that pie is drawn as a circle\n",
    "ax1.axis('equal')  \n",
    "plt.legend(data_)\n",
    "plt.title('Pie chart showing distribution of gender in dataset')\n",
    "plt.show()"
   ]
  },
  {
   "cell_type": "markdown",
   "metadata": {
    "id": "tXlpNUehufjv"
   },
   "source": [
    "### Above shows the distribution for male and females in the dataset"
   ]
  },
  {
   "cell_type": "code",
   "execution_count": 50,
   "metadata": {
    "colab": {
     "base_uri": "https://localhost:8080/",
     "height": 295
    },
    "id": "s65ZMaRRrfMA",
    "outputId": "3104159f-af9a-436c-9d8f-3b48f02a21fb"
   },
   "outputs": [
    {
     "data": {
      "image/png": "[encoded data removed]",
      "text/plain": [
       "<Figure size 432x288 with 1 Axes>"
      ]
     },
     "metadata": {
      "needs_background": "light"
     },
     "output_type": "display_data"
    }
   ],
   "source": [
    "data.marital_status.value_counts().plot.bar(title = \"Counts of users With different marital statuses\", color = ['red','blue','green','yellow','cyan','black','pink','purple'] , xlabel = \"Marital Status\", ylabel = \"Count\")\n",
    "plt.show()"
   ]
  },
  {
   "cell_type": "markdown",
   "metadata": {
    "id": "rVrbgShfvfzg"
   },
   "source": [
    "### Here the above legend code means the following:\n",
    "\n",
    "#### M - Married\n",
    "#### S - Marital status not known or unstated\n",
    "#### U - Unmarried\n",
    "#### W - Widowed\n",
    "#### D - Divorced\n",
    "#### P - Domestic Partner\n",
    "#### R - Registered Domestic Partner\n",
    "#### f - Married but not officially disclosed "
   ]
  },
  {
   "cell_type": "markdown",
   "metadata": {
    "id": "IKIKl18SyjH3"
   },
   "source": [
    "### However we wish that we only need 2 categories so we shall coalesce few of the above categories into either married or single\n",
    "\n",
    "### Categories M, P, R, f come under married\n",
    "### and others come under Single/Unmarried"
   ]
  },
  {
   "cell_type": "code",
   "execution_count": 51,
   "metadata": {
    "id": "_7Gmemx3rzsh"
   },
   "outputs": [],
   "source": [
    "def marital_status(x):\n",
    "  if(x == 'M' or x == 'P' or x == 'R' or x == 'f'):\n",
    "    return 'M'\n",
    "  else:\n",
    "    return 'S'"
   ]
  },
  {
   "cell_type": "code",
   "execution_count": 52,
   "metadata": {
    "id": "MQbeqZH5ztel"
   },
   "outputs": [],
   "source": [
    "data.marital_status = data.marital_status.apply(marital_status)"
   ]
  },
  {
   "cell_type": "code",
   "execution_count": 53,
   "metadata": {
    "colab": {
     "base_uri": "https://localhost:8080/"
    },
    "id": "EjR9pyyszyYF",
    "outputId": "0bf31748-f0a4-450f-d426-e6251895f81d"
   },
   "outputs": [
    {
     "data": {
      "text/plain": [
       "array(['M', 'S'], dtype=object)"
      ]
     },
     "execution_count": 53,
     "metadata": {},
     "output_type": "execute_result"
    }
   ],
   "source": [
    "data.marital_status.unique()"
   ]
  },
  {
   "cell_type": "code",
   "execution_count": 54,
   "metadata": {
    "colab": {
     "base_uri": "https://localhost:8080/",
     "height": 264
    },
    "id": "QECXLkEfz1gh",
    "outputId": "1958c0cd-5aa9-4127-bdce-4d02f3a15573"
   },
   "outputs": [
    {
     "data": {
      "image/png": "[encoded data removed]",
      "text/plain": [
       "<Figure size 432x288 with 1 Axes>"
      ]
     },
     "metadata": {},
     "output_type": "display_data"
    }
   ],
   "source": [
    "data_ = data.marital_status.value_counts().index\n",
    "counts = data.marital_status.value_counts().values\n",
    "explode = (0.2,0) \n",
    "fig1, ax1 = plt.subplots()\n",
    "ax1.pie(counts,explode=explode, autopct='%1.1f%%',\n",
    "        shadow=True, startangle=90)\n",
    "# Equal aspect ratio ensures that pie is drawn as a circle\n",
    "ax1.axis('equal')  \n",
    "plt.legend(data_)\n",
    "plt.title('Pie chart showing distribution of married and single users in the dataset')\n",
    "plt.show()"
   ]
  },
  {
   "cell_type": "markdown",
   "metadata": {
    "id": "siSuD5cy0Jnt"
   },
   "source": [
    "### We wish to impute another attribute in our dataset which is income - not available in our dataset earlier\n",
    "\n",
    "### We shall use occupation as a pivotal reference to assign income to every user in the dataset\n",
    "\n",
    "### We would need additional datapoint so that we can recommend better and find out best premium price policy for the user"
   ]
  },
  {
   "cell_type": "markdown",
   "metadata": {
    "id": "QoiFVi1p2y9Z"
   },
   "source": [
    "### 1. A median corporate employee earns anywhere between 3 lakhs and 21 lakhs per annum \n",
    "\n",
    "### 2. A median self employed person earns 5 lakhs to 30 lakhs per annum\n",
    "\n",
    "### 3. A median enterpreneur earns 7 lakhs to 60 lakhs per annum \n",
    "\n",
    "### 4. A median doctor/professional in medical field earns from 6 lakhs to 40 lakhs\n",
    "\n",
    "### 5. A person in the miltary earns about 7 lakhs to 20 lakhs(they have other forms of compensations but we will consider salary as pivot for our calculations)\n",
    "\n",
    "\n",
    "### Since we have used anecdotal evidence to base those figures, we have researched some sources from where we estimated the above figures\n",
    "\n",
    "#### 1. https://www.payscale.com/research/IN/Employer=Any_Company/Salary\n",
    "#### 2. https://www.payscale.com/research/IN/Employer=Self-Employed/Salary\n",
    "#### 3. https://www.payscale.com/research/IN/Job=Small_Business_Owner/Salary\n",
    "#### 4. https://www.glassdoor.co.in/Salary/Indian-Army-Salaries-E250868.htm"
   ]
  },
  {
   "cell_type": "code",
   "execution_count": 55,
   "metadata": {
    "id": "XpzFFvGe_ILv"
   },
   "outputs": [],
   "source": [
    "data['Annual_Income'] = np.nan"
   ]
  },
  {
   "cell_type": "code",
   "execution_count": 56,
   "metadata": {
    "colab": {
     "base_uri": "https://localhost:8080/",
     "height": 241
    },
    "id": "FM31BXP-WzwN",
    "outputId": "ae3b2f82-5ab1-4eec-efcc-8ea47b928891"
   },
   "outputs": [
    {
     "data": {
      "text/html": [
       "<div>\n",
       "<style scoped>\n",
       "    .dataframe tbody tr th:only-of-type {\n",
       "        vertical-align: middle;\n",
       "    }\n",
       "\n",
       "    .dataframe tbody tr th {\n",
       "        vertical-align: top;\n",
       "    }\n",
       "\n",
       "    .dataframe thead th {\n",
       "        text-align: right;\n",
       "    }\n",
       "</style>\n",
       "<table border=\"1\" class=\"dataframe\">\n",
       "  <thead>\n",
       "    <tr style=\"text-align: right;\">\n",
       "      <th></th>\n",
       "      <th>ID</th>\n",
       "      <th>sex</th>\n",
       "      <th>marital_status</th>\n",
       "      <th>age_group</th>\n",
       "      <th>occupation_category_code</th>\n",
       "      <th>Annual_Income</th>\n",
       "      <th>Policy 1</th>\n",
       "      <th>Policy 2</th>\n",
       "      <th>Policy 3</th>\n",
       "      <th>Policy 4</th>\n",
       "      <th>...</th>\n",
       "      <th>Policy 12</th>\n",
       "      <th>Policy 13</th>\n",
       "      <th>Policy 14</th>\n",
       "      <th>Policy 15</th>\n",
       "      <th>Policy 16</th>\n",
       "      <th>Policy 17</th>\n",
       "      <th>Policy 18</th>\n",
       "      <th>Policy 19</th>\n",
       "      <th>Policy 20</th>\n",
       "      <th>Policy 21</th>\n",
       "    </tr>\n",
       "  </thead>\n",
       "  <tbody>\n",
       "    <tr>\n",
       "      <th>0</th>\n",
       "      <td>4WKQSBB</td>\n",
       "      <td>F</td>\n",
       "      <td>M</td>\n",
       "      <td>25-40</td>\n",
       "      <td>Corporate Employee</td>\n",
       "      <td>NaN</td>\n",
       "      <td>0</td>\n",
       "      <td>0</td>\n",
       "      <td>0</td>\n",
       "      <td>0</td>\n",
       "      <td>...</td>\n",
       "      <td>0</td>\n",
       "      <td>0</td>\n",
       "      <td>0</td>\n",
       "      <td>1</td>\n",
       "      <td>0</td>\n",
       "      <td>0</td>\n",
       "      <td>0</td>\n",
       "      <td>0</td>\n",
       "      <td>0</td>\n",
       "      <td>0</td>\n",
       "    </tr>\n",
       "    <tr>\n",
       "      <th>1</th>\n",
       "      <td>CP5S02H</td>\n",
       "      <td>F</td>\n",
       "      <td>M</td>\n",
       "      <td>25-40</td>\n",
       "      <td>Corporate Employee</td>\n",
       "      <td>NaN</td>\n",
       "      <td>0</td>\n",
       "      <td>0</td>\n",
       "      <td>0</td>\n",
       "      <td>0</td>\n",
       "      <td>...</td>\n",
       "      <td>0</td>\n",
       "      <td>0</td>\n",
       "      <td>0</td>\n",
       "      <td>1</td>\n",
       "      <td>0</td>\n",
       "      <td>0</td>\n",
       "      <td>0</td>\n",
       "      <td>0</td>\n",
       "      <td>0</td>\n",
       "      <td>0</td>\n",
       "    </tr>\n",
       "    <tr>\n",
       "      <th>2</th>\n",
       "      <td>2YKDILJ</td>\n",
       "      <td>M</td>\n",
       "      <td>S</td>\n",
       "      <td>25-40</td>\n",
       "      <td>Self Employed</td>\n",
       "      <td>NaN</td>\n",
       "      <td>0</td>\n",
       "      <td>0</td>\n",
       "      <td>0</td>\n",
       "      <td>0</td>\n",
       "      <td>...</td>\n",
       "      <td>0</td>\n",
       "      <td>0</td>\n",
       "      <td>0</td>\n",
       "      <td>0</td>\n",
       "      <td>0</td>\n",
       "      <td>0</td>\n",
       "      <td>0</td>\n",
       "      <td>0</td>\n",
       "      <td>0</td>\n",
       "      <td>1</td>\n",
       "    </tr>\n",
       "    <tr>\n",
       "      <th>3</th>\n",
       "      <td>2S9E81J</td>\n",
       "      <td>M</td>\n",
       "      <td>M</td>\n",
       "      <td>25-40</td>\n",
       "      <td>Medical Professional</td>\n",
       "      <td>NaN</td>\n",
       "      <td>0</td>\n",
       "      <td>0</td>\n",
       "      <td>0</td>\n",
       "      <td>0</td>\n",
       "      <td>...</td>\n",
       "      <td>0</td>\n",
       "      <td>0</td>\n",
       "      <td>0</td>\n",
       "      <td>1</td>\n",
       "      <td>0</td>\n",
       "      <td>0</td>\n",
       "      <td>0</td>\n",
       "      <td>0</td>\n",
       "      <td>0</td>\n",
       "      <td>0</td>\n",
       "    </tr>\n",
       "    <tr>\n",
       "      <th>4</th>\n",
       "      <td>BHDYVFT</td>\n",
       "      <td>M</td>\n",
       "      <td>M</td>\n",
       "      <td>25-40</td>\n",
       "      <td>Corporate Employee</td>\n",
       "      <td>NaN</td>\n",
       "      <td>0</td>\n",
       "      <td>0</td>\n",
       "      <td>0</td>\n",
       "      <td>0</td>\n",
       "      <td>...</td>\n",
       "      <td>0</td>\n",
       "      <td>0</td>\n",
       "      <td>0</td>\n",
       "      <td>0</td>\n",
       "      <td>0</td>\n",
       "      <td>0</td>\n",
       "      <td>1</td>\n",
       "      <td>1</td>\n",
       "      <td>0</td>\n",
       "      <td>0</td>\n",
       "    </tr>\n",
       "  </tbody>\n",
       "</table>\n",
       "<p>5 rows × 27 columns</p>\n",
       "</div>"
      ],
      "text/plain": [
       "        ID sex marital_status age_group occupation_category_code  \\\n",
       "0  4WKQSBB   F              M     25-40       Corporate Employee   \n",
       "1  CP5S02H   F              M     25-40       Corporate Employee   \n",
       "2  2YKDILJ   M              S     25-40            Self Employed   \n",
       "3  2S9E81J   M              M     25-40     Medical Professional   \n",
       "4  BHDYVFT   M              M     25-40       Corporate Employee   \n",
       "\n",
       "   Annual_Income  Policy 1  Policy 2  Policy 3  Policy 4  ...  Policy 12  \\\n",
       "0            NaN         0         0         0         0  ...          0   \n",
       "1            NaN         0         0         0         0  ...          0   \n",
       "2            NaN         0         0         0         0  ...          0   \n",
       "3            NaN         0         0         0         0  ...          0   \n",
       "4            NaN         0         0         0         0  ...          0   \n",
       "\n",
       "   Policy 13  Policy 14  Policy 15  Policy 16  Policy 17  Policy 18  \\\n",
       "0          0          0          1          0          0          0   \n",
       "1          0          0          1          0          0          0   \n",
       "2          0          0          0          0          0          0   \n",
       "3          0          0          1          0          0          0   \n",
       "4          0          0          0          0          0          1   \n",
       "\n",
       "   Policy 19  Policy 20  Policy 21  \n",
       "0          0          0          0  \n",
       "1          0          0          0  \n",
       "2          0          0          1  \n",
       "3          0          0          0  \n",
       "4          1          0          0  \n",
       "\n",
       "[5 rows x 27 columns]"
      ]
     },
     "execution_count": 56,
     "metadata": {},
     "output_type": "execute_result"
    }
   ],
   "source": [
    "data = data[['ID', 'sex', 'marital_status', 'age_group', 'occupation_category_code','Annual_Income',\\\n",
    "       'Policy 1', 'Policy 2', 'Policy 3', 'Policy 4', 'Policy 5', 'Policy 6',\\\n",
    "       'Policy 7', 'Policy 8', 'Policy 9', 'Policy 10', 'Policy 11',\\\n",
    "       'Policy 12', 'Policy 13', 'Policy 14', 'Policy 15', 'Policy 16',\\\n",
    "       'Policy 17', 'Policy 18', 'Policy 19', 'Policy 20', 'Policy 21']]\n",
    "data.head()"
   ]
  },
  {
   "cell_type": "code",
   "execution_count": 57,
   "metadata": {
    "id": "srfLQkdoW1pe"
   },
   "outputs": [],
   "source": [
    "def compute_income():\n",
    "  income = []\n",
    "  age_group = data.age_group.values\n",
    "  occupation_category_code = data.occupation_category_code.values\n",
    "  for age,occupation in zip(age_group,occupation_category_code):\n",
    "    if(occupation == 'Corporate Employee'):\n",
    "      if(age == 'Below 25'):\n",
    "        income.append(np.random.randint(300000,800000))\n",
    "      elif(age == '25-40'):\n",
    "        income.append(np.random.randint(800000,1600000))\n",
    "      elif(age == '41-60'):\n",
    "        income.append(np.random.randint(1200000,1800000))\n",
    "      elif(age == 'Above 60'):\n",
    "        income.append(np.random.randint(1600000,2100000))\n",
    "    elif(occupation == 'Self Employed'):\n",
    "      if(age == 'Below 25'):\n",
    "        income.append(np.random.randint(400000,900000))\n",
    "      elif(age == '25-40'):\n",
    "        income.append(np.random.randint(1200000,2100000))\n",
    "      elif(age == '41-60'):\n",
    "        income.append(np.random.randint(1000000,2200000))\n",
    "      elif(age == 'Above 60'):\n",
    "        income.append(np.random.randint(1500000,2500000))\n",
    "    elif(occupation == 'Medical Professional'):\n",
    "      if(age == 'Below 25'):\n",
    "        income.append(np.random.randint(600000,900000))\n",
    "      elif(age == '25-40'):\n",
    "        income.append(np.random.randint(1200000,2100000))\n",
    "      elif(age == '41-60'):\n",
    "        income.append(np.random.randint(1500000,3100000))\n",
    "      elif(age == 'Above 60'):\n",
    "        income.append(np.random.randint(2700000,3500000))\n",
    "    elif(occupation == 'Enterpreneur'):\n",
    "      if(age == 'Below 25'):\n",
    "        income.append(np.random.randint(300000,900000))\n",
    "      if(age == '25-40'):\n",
    "        income.append(np.random.randint(1100000,1800000))\n",
    "      elif(age == '41-60'):\n",
    "        income.append(np.random.randint(1600000,3200000))\n",
    "      elif(age == 'Above 60'):\n",
    "        income.append(np.random.randint(3000000,5000000))\n",
    "    elif(occupation == 'Military Service'):\n",
    "      if(age == 'Below 25'):\n",
    "        income.append(np.random.randint(500000,1000000))\n",
    "      elif(age == '25-40'):\n",
    "        income.append(np.random.randint(800000,1500000))\n",
    "      elif(age == '41-60'):\n",
    "        income.append(np.random.randint(1500000,2500000))\n",
    "      elif(age == 'Above 60'):\n",
    "        income.append(np.random.randint(1800000,3500000))\n",
    "      \n",
    "  return income"
   ]
  },
  {
   "cell_type": "code",
   "execution_count": 58,
   "metadata": {
    "id": "O_AbvyyzZ-Hc"
   },
   "outputs": [],
   "source": [
    "annual_income = compute_income()"
   ]
  },
  {
   "cell_type": "code",
   "execution_count": 59,
   "metadata": {
    "id": "SMV2D2A6bhAZ"
   },
   "outputs": [],
   "source": [
    "data.Annual_Income = annual_income"
   ]
  },
  {
   "cell_type": "code",
   "execution_count": 60,
   "metadata": {
    "colab": {
     "base_uri": "https://localhost:8080/",
     "height": 241
    },
    "id": "BcYyspORdNGc",
    "outputId": "7cffab74-5a11-44e0-960f-d9abb231a478"
   },
   "outputs": [
    {
     "data": {
      "text/html": [
       "<div>\n",
       "<style scoped>\n",
       "    .dataframe tbody tr th:only-of-type {\n",
       "        vertical-align: middle;\n",
       "    }\n",
       "\n",
       "    .dataframe tbody tr th {\n",
       "        vertical-align: top;\n",
       "    }\n",
       "\n",
       "    .dataframe thead th {\n",
       "        text-align: right;\n",
       "    }\n",
       "</style>\n",
       "<table border=\"1\" class=\"dataframe\">\n",
       "  <thead>\n",
       "    <tr style=\"text-align: right;\">\n",
       "      <th></th>\n",
       "      <th>ID</th>\n",
       "      <th>sex</th>\n",
       "      <th>marital_status</th>\n",
       "      <th>age_group</th>\n",
       "      <th>occupation_category_code</th>\n",
       "      <th>Annual_Income</th>\n",
       "      <th>Policy 1</th>\n",
       "      <th>Policy 2</th>\n",
       "      <th>Policy 3</th>\n",
       "      <th>Policy 4</th>\n",
       "      <th>...</th>\n",
       "      <th>Policy 12</th>\n",
       "      <th>Policy 13</th>\n",
       "      <th>Policy 14</th>\n",
       "      <th>Policy 15</th>\n",
       "      <th>Policy 16</th>\n",
       "      <th>Policy 17</th>\n",
       "      <th>Policy 18</th>\n",
       "      <th>Policy 19</th>\n",
       "      <th>Policy 20</th>\n",
       "      <th>Policy 21</th>\n",
       "    </tr>\n",
       "  </thead>\n",
       "  <tbody>\n",
       "    <tr>\n",
       "      <th>0</th>\n",
       "      <td>4WKQSBB</td>\n",
       "      <td>F</td>\n",
       "      <td>M</td>\n",
       "      <td>25-40</td>\n",
       "      <td>Corporate Employee</td>\n",
       "      <td>1264849</td>\n",
       "      <td>0</td>\n",
       "      <td>0</td>\n",
       "      <td>0</td>\n",
       "      <td>0</td>\n",
       "      <td>...</td>\n",
       "      <td>0</td>\n",
       "      <td>0</td>\n",
       "      <td>0</td>\n",
       "      <td>1</td>\n",
       "      <td>0</td>\n",
       "      <td>0</td>\n",
       "      <td>0</td>\n",
       "      <td>0</td>\n",
       "      <td>0</td>\n",
       "      <td>0</td>\n",
       "    </tr>\n",
       "    <tr>\n",
       "      <th>1</th>\n",
       "      <td>CP5S02H</td>\n",
       "      <td>F</td>\n",
       "      <td>M</td>\n",
       "      <td>25-40</td>\n",
       "      <td>Corporate Employee</td>\n",
       "      <td>1161835</td>\n",
       "      <td>0</td>\n",
       "      <td>0</td>\n",
       "      <td>0</td>\n",
       "      <td>0</td>\n",
       "      <td>...</td>\n",
       "      <td>0</td>\n",
       "      <td>0</td>\n",
       "      <td>0</td>\n",
       "      <td>1</td>\n",
       "      <td>0</td>\n",
       "      <td>0</td>\n",
       "      <td>0</td>\n",
       "      <td>0</td>\n",
       "      <td>0</td>\n",
       "      <td>0</td>\n",
       "    </tr>\n",
       "    <tr>\n",
       "      <th>2</th>\n",
       "      <td>2YKDILJ</td>\n",
       "      <td>M</td>\n",
       "      <td>S</td>\n",
       "      <td>25-40</td>\n",
       "      <td>Self Employed</td>\n",
       "      <td>1364056</td>\n",
       "      <td>0</td>\n",
       "      <td>0</td>\n",
       "      <td>0</td>\n",
       "      <td>0</td>\n",
       "      <td>...</td>\n",
       "      <td>0</td>\n",
       "      <td>0</td>\n",
       "      <td>0</td>\n",
       "      <td>0</td>\n",
       "      <td>0</td>\n",
       "      <td>0</td>\n",
       "      <td>0</td>\n",
       "      <td>0</td>\n",
       "      <td>0</td>\n",
       "      <td>1</td>\n",
       "    </tr>\n",
       "    <tr>\n",
       "      <th>3</th>\n",
       "      <td>2S9E81J</td>\n",
       "      <td>M</td>\n",
       "      <td>M</td>\n",
       "      <td>25-40</td>\n",
       "      <td>Medical Professional</td>\n",
       "      <td>1704194</td>\n",
       "      <td>0</td>\n",
       "      <td>0</td>\n",
       "      <td>0</td>\n",
       "      <td>0</td>\n",
       "      <td>...</td>\n",
       "      <td>0</td>\n",
       "      <td>0</td>\n",
       "      <td>0</td>\n",
       "      <td>1</td>\n",
       "      <td>0</td>\n",
       "      <td>0</td>\n",
       "      <td>0</td>\n",
       "      <td>0</td>\n",
       "      <td>0</td>\n",
       "      <td>0</td>\n",
       "    </tr>\n",
       "    <tr>\n",
       "      <th>4</th>\n",
       "      <td>BHDYVFT</td>\n",
       "      <td>M</td>\n",
       "      <td>M</td>\n",
       "      <td>25-40</td>\n",
       "      <td>Corporate Employee</td>\n",
       "      <td>1490238</td>\n",
       "      <td>0</td>\n",
       "      <td>0</td>\n",
       "      <td>0</td>\n",
       "      <td>0</td>\n",
       "      <td>...</td>\n",
       "      <td>0</td>\n",
       "      <td>0</td>\n",
       "      <td>0</td>\n",
       "      <td>0</td>\n",
       "      <td>0</td>\n",
       "      <td>0</td>\n",
       "      <td>1</td>\n",
       "      <td>1</td>\n",
       "      <td>0</td>\n",
       "      <td>0</td>\n",
       "    </tr>\n",
       "  </tbody>\n",
       "</table>\n",
       "<p>5 rows × 27 columns</p>\n",
       "</div>"
      ],
      "text/plain": [
       "        ID sex marital_status age_group occupation_category_code  \\\n",
       "0  4WKQSBB   F              M     25-40       Corporate Employee   \n",
       "1  CP5S02H   F              M     25-40       Corporate Employee   \n",
       "2  2YKDILJ   M              S     25-40            Self Employed   \n",
       "3  2S9E81J   M              M     25-40     Medical Professional   \n",
       "4  BHDYVFT   M              M     25-40       Corporate Employee   \n",
       "\n",
       "   Annual_Income  Policy 1  Policy 2  Policy 3  Policy 4  ...  Policy 12  \\\n",
       "0        1264849         0         0         0         0  ...          0   \n",
       "1        1161835         0         0         0         0  ...          0   \n",
       "2        1364056         0         0         0         0  ...          0   \n",
       "3        1704194         0         0         0         0  ...          0   \n",
       "4        1490238         0         0         0         0  ...          0   \n",
       "\n",
       "   Policy 13  Policy 14  Policy 15  Policy 16  Policy 17  Policy 18  \\\n",
       "0          0          0          1          0          0          0   \n",
       "1          0          0          1          0          0          0   \n",
       "2          0          0          0          0          0          0   \n",
       "3          0          0          1          0          0          0   \n",
       "4          0          0          0          0          0          1   \n",
       "\n",
       "   Policy 19  Policy 20  Policy 21  \n",
       "0          0          0          0  \n",
       "1          0          0          0  \n",
       "2          0          0          1  \n",
       "3          0          0          0  \n",
       "4          1          0          0  \n",
       "\n",
       "[5 rows x 27 columns]"
      ]
     },
     "execution_count": 60,
     "metadata": {},
     "output_type": "execute_result"
    }
   ],
   "source": [
    "data.head()"
   ]
  },
  {
   "cell_type": "code",
   "execution_count": 61,
   "metadata": {
    "id": "DNEM3yJmdSVE"
   },
   "outputs": [],
   "source": [
    "def bin_income(x):\n",
    "  if(x <=500000):\n",
    "    return '0-5 lac'\n",
    "  elif(x > 500000 and x < 1000000):\n",
    "    return '5-10 lac'\n",
    "  elif(x > 1000000 and x < 2000000):\n",
    "    return '10-20 lac'\n",
    "  elif(x > 2000000 and x < 3000000):\n",
    "    return '20-30 lac'\n",
    "  elif(x > 3000000 and x < 4000000):\n",
    "    return '30-40 lac'\n",
    "  elif(x > 4000000 and x < 5000000):\n",
    "    return '40-50 lac'"
   ]
  },
  {
   "cell_type": "code",
   "execution_count": 62,
   "metadata": {
    "id": "Rl8yUtxlfzTm"
   },
   "outputs": [],
   "source": [
    "data.Annual_Income = data.Annual_Income.apply(bin_income)"
   ]
  },
  {
   "cell_type": "code",
   "execution_count": 63,
   "metadata": {
    "colab": {
     "base_uri": "https://localhost:8080/",
     "height": 332
    },
    "id": "JdVTNvvbgZEu",
    "outputId": "f5b4f148-c1d3-48bc-b2ee-997fe3aa6629"
   },
   "outputs": [
    {
     "data": {
      "image/png": "[encoded data removed]",
      "text/plain": [
       "<Figure size 432x288 with 1 Axes>"
      ]
     },
     "metadata": {
      "needs_background": "light"
     },
     "output_type": "display_data"
    }
   ],
   "source": [
    "data.age_group.value_counts().plot.bar(title = \"Counts of users from different Age Groups\", color = ['red','blue','green','yellow'], xlabel = \"Age Groups\", ylabel = \"Count\")\n",
    "plt.show()"
   ]
  },
  {
   "cell_type": "code",
   "execution_count": 67,
   "metadata": {
    "id": "o7MQn3fGjpNu"
   },
   "outputs": [],
   "source": [
    "data.to_excel('D:\\\\insurance policy edited\\\\Final_Excel.xlsx')"
   ]
  }
 ],
 "metadata": {
  "colab": {
   "collapsed_sections": [
    "Kw_dw7RWQo9T",
    "rVrbgShfvfzg",
    "siSuD5cy0Jnt",
    "QoiFVi1p2y9Z"
   ],
   "name": "Insurance Recommender Project - Data Preprocessing.ipynb",
   "provenance": []
  },
  "kernelspec": {
   "display_name": "Python 3 (ipykernel)",
   "language": "python",
   "name": "python3"
  },
  "language_info": {
   "codemirror_mode": {
    "name": "ipython",
    "version": 3
   },
   "file_extension": ".py",
   "mimetype": "text/x-python",
   "name": "python",
   "nbconvert_exporter": "python",
   "pygments_lexer": "ipython3",
   "version": "3.9.7"
  }
 },
 "nbformat": 4,
 "nbformat_minor": 1
}
