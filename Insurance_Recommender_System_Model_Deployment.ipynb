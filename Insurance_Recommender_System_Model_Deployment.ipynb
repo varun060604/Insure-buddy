{
 "cells": [
  {
   "cell_type": "markdown",
   "metadata": {
    "id": "zakG7DvVvkWX"
   },
   "source": [
    "<center><img src =\" https://yt3.ggpht.com/6yOAfLsCTDiA_9xEjk8bxq3UUBZ4oW7Scaabp1KndNfR9LwTtK7heYzpoA_1b1-adk4Ws56YQzo=s900-c-k-c0x00ffffff-no-rj\" width = 300px ></center>\n",
    "\n",
    "# **<center><font color='black'>Saraswati Institute of technology</font></center>**\n",
    "\n",
    "## <center><font color='red'>Diploma Final Year Project</font></center>\n",
    "\n",
    "## <center>**<font color='purple'>InsureBuddy - An Insurance Recommender System</font></center>**"
   ]
  },
  {
   "cell_type": "markdown",
   "metadata": {
    "id": "Oemapk_mvkWi"
   },
   "source": [
    "### **Author:**\n",
    "### **Varun Pandey**\n",
    "### Co-Authors:\n",
    "### 1. Stephan Bage\n",
    "### 2. Dhyan Parasiya"
   ]
  },
  {
   "cell_type": "markdown",
   "metadata": {
    "id": "x5UmNHlBvpQv"
   },
   "source": [
    "## **<font color='purple'>`Problem Statement: To process, analyse and mine the data for useful insights in insurance product recommendation and model them using various algorithms, and deploying them into an application which would provide the user with useful insurance product recommendations`</font>**"
   ]
  },
  {
   "cell_type": "markdown",
   "metadata": {
    "id": "Vq5h7YVAcP41"
   },
   "source": [
    "## **VI. Model Deployment** "
   ]
  },
  {
   "cell_type": "code",
   "execution_count": null,
   "metadata": {
    "id": "SvPDdU7avtuY"
   },
   "outputs": [],
   "source": [
    "import numpy as np\n",
    "import pandas as pd\n",
    "import random"
   ]
  },
  {
   "cell_type": "code",
   "execution_count": null,
   "metadata": {
    "colab": {
     "base_uri": "https://localhost:8080/",
     "height": 72,
     "resources": {
      "http://localhost:8080/nbextensions/google.colab/files.js": {
       "data": "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",
       "headers": [
        [
         "content-type",
         "application/javascript"
        ]
       ],
       "ok": true,
       "status": 200,
       "status_text": ""
      }
     }
    },
    "id": "rl8GKbTev3Fv",
    "outputId": "91f7271c-50a6-471f-e32e-cff3f9613867"
   },
   "outputs": [
    {
     "data": {
      "text/html": [
       "\n",
       "     <input type=\"file\" id=\"files-895107e3-a4c8-469d-a1c5-2f26c3f3240d\" name=\"files[]\" multiple disabled\n",
       "        style=\"border:none\" />\n",
       "     <output id=\"result-895107e3-a4c8-469d-a1c5-2f26c3f3240d\">\n",
       "      Upload widget is only available when the cell has been executed in the\n",
       "      current browser session. Please rerun this cell to enable.\n",
       "      </output>\n",
       "      <script src=\"/nbextensions/google.colab/files.js\"></script> "
      ],
      "text/plain": [
       "<IPython.core.display.HTML object>"
      ]
     },
     "metadata": {
      "tags": []
     },
     "output_type": "display_data"
    },
    {
     "name": "stdout",
     "output_type": "stream",
     "text": [
      "Saving bayesian_nn.zip to bayesian_nn (4).zip\n"
     ]
    }
   ],
   "source": [
    "from google.colab import files\n",
    "u = files.upload()"
   ]
  },
  {
   "cell_type": "code",
   "execution_count": null,
   "metadata": {
    "colab": {
     "base_uri": "https://localhost:8080/"
    },
    "id": "_Djwt4N8wUEc",
    "outputId": "1a7d98a8-107b-4eae-8f38-769fb68d3182"
   },
   "outputs": [
    {
     "name": "stdout",
     "output_type": "stream",
     "text": [
      "Requirement already satisfied: scikit-multilearn in /usr/local/lib/python3.6/dist-packages (0.2.0)\n"
     ]
    }
   ],
   "source": [
    "!pip install scikit-multilearn"
   ]
  },
  {
   "cell_type": "code",
   "execution_count": null,
   "metadata": {
    "id": "cjYuCLC5wIW6"
   },
   "outputs": [],
   "source": [
    "import skmultilearn\n",
    "import pickle"
   ]
  },
  {
   "cell_type": "markdown",
   "metadata": {
    "id": "VGShRXDVBG1R"
   },
   "source": [
    "### Load Models"
   ]
  },
  {
   "cell_type": "code",
   "execution_count": null,
   "metadata": {
    "id": "mkQkJjv2wUnL"
   },
   "outputs": [],
   "source": [
    "clf = pickle.load(open('/content/RFClassifier.sav', 'rb'))"
   ]
  },
  {
   "cell_type": "code",
   "execution_count": null,
   "metadata": {
    "id": "K6mLGFiQPfJt"
   },
   "outputs": [],
   "source": [
    "import zipfile\n",
    "with zipfile.ZipFile('/content/bayesian_nn.zip', 'r') as zip_ref:\n",
    "    zip_ref.extractall('/content/bayesian_nn')"
   ]
  },
  {
   "cell_type": "code",
   "execution_count": null,
   "metadata": {
    "id": "R_eM0UiWPfnc"
   },
   "outputs": [],
   "source": [
    "from tensorflow import keras\n",
    "model = keras.models.load_model('/content/bayesian_nn')"
   ]
  },
  {
   "cell_type": "markdown",
   "metadata": {
    "id": "8_5xTUSaxJOy"
   },
   "source": [
    "### Input Keys: {input_field:actual_value}\n",
    "#### Gender: {0:female,1:male}\n",
    "#### Marital Status: {0:Married,1:Unmarried}\n",
    "#### Age: {0:25-40,1:41-60,2:Above 60, 3:Below 25}\n",
    "#### Occupation: {0: Corporate Employee, 1: Enterpreneur, 2: Medical Professional, 3: Military Service, 4: Self Employed}\n",
    "#### Income: {0: 0-5 lac,1: 10-20 lac,2: 20-30 lac,3: 30-40 lac,4: 40-50 lac,5: 5-10 lac}\n",
    "\n",
    "#### Any Serious Medical Ailment: {0: No, 1: Yes}"
   ]
  },
  {
   "cell_type": "markdown",
   "metadata": {
    "id": "FeZxEdFhBIs6"
   },
   "source": [
    "### Take inputs"
   ]
  },
  {
   "cell_type": "code",
   "execution_count": null,
   "metadata": {
    "id": "ErhElaPTw7Fh"
   },
   "outputs": [],
   "source": [
    "def take_inputs():\n",
    "  #Ask Questions:\n",
    "  gender = input('What is your Gender {Male/Female}\\n')\n",
    "  marital_status = input('What is your Marital Status {Married/Unmarried}\\n')\n",
    "  age = input('What is your Age {Below 25 Years, 25-40 Years, 41-60 Years, Above 60 Years\\n')\n",
    "  occupation = input(' What is your occupation{Corporate Employee, Enterpreneur, Medical Professional, Military Service, Self Employed}\\n')\n",
    "  income = input('What is your income {0-5 lac,10-20 lac,20-30 lac,30-40 lac,40-50 lac,5-10 lac}\\n')\n",
    "  ailment = input('Did you have any Serious Medical ailment in past 2 years? {Yes/No}\\n')\n",
    "  \n",
    "  #encode inputs \n",
    "\n",
    "  if(gender == 'Male'):\n",
    "    gender = 0\n",
    "  elif(gender == 'Female'):\n",
    "    gender = 1\n",
    "  \n",
    "  if(marital_status == 'Married'):\n",
    "    marital_status = 0\n",
    "  elif(marital_status == 'Unmarried'):\n",
    "    marital_status = 1\n",
    "\n",
    "  if(age == 'Below 25 Years'):\n",
    "    age = 3\n",
    "  elif(age == '25-40 Years'):\n",
    "    age = 0\n",
    "  elif(age == '41-60 Years'):\n",
    "    age = 1\n",
    "  elif(age == 'Above 60 Years'):\n",
    "    age = 2\n",
    "  \n",
    "  if(occupation == 'Corporate Employee'):\n",
    "    occupation = 0\n",
    "  elif(occupation == 'Enterpreneur'):\n",
    "    occupation = 1\n",
    "  elif(occupation == 'Medical Professional'):\n",
    "    occupation = 2\n",
    "  elif(occupation == 'Military Service'):\n",
    "    occupation = 3\n",
    "  elif(occupation == 'Self Employed'):\n",
    "    occupation = 4\n",
    "\n",
    "  if(income == '0-5 lac'):\n",
    "    income = 0\n",
    "  elif(income == '5-10 lac'):\n",
    "    income = 5\n",
    "  elif(income == '10-20 lac'):\n",
    "    income = 1\n",
    "  elif(income == '20-30 lac'):\n",
    "    income = 2\n",
    "  elif(income == '30-40 lac'):\n",
    "    income = 3\n",
    "  elif(income == '40-50 lac'):\n",
    "    income = 4\n",
    "\n",
    "  if(ailment == 'Yes'):\n",
    "    ailment = 1\n",
    "  elif(ailment == 'No'):\n",
    "    ailment = 0\n",
    "\n",
    "  encoded_inputs = [gender,marital_status,age,occupation,income]\n",
    "  \n",
    "\n",
    "  return encoded_inputs,ailment"
   ]
  },
  {
   "cell_type": "markdown",
   "metadata": {
    "id": "_CnVxNHIBLyq"
   },
   "source": [
    "## Define Policies"
   ]
  },
  {
   "cell_type": "markdown",
   "metadata": {
    "id": "KqysxAAgA3kD"
   },
   "source": [
    "### We pick some policies and enlist their coverage, premium and tenure"
   ]
  },
  {
   "cell_type": "markdown",
   "metadata": {
    "id": "GnK9M9BoCanf"
   },
   "source": [
    "**Policy Set 1**\n",
    "\n",
    "|Policy No.|  Policy Amount | Coverage | Premium  \n",
    "| --- | --- | --- | --- |\n",
    "| 1 | 8,00,000 | 3,20,000 |25,000\n",
    "| 2 | 10,00,000 | 5,00,000 |25,000\n",
    "| 3 | 2,00,000 | 90,000 | 20,000\n",
    "| 4 | 6,00,000 | 2,50,000 |40,000\n",
    "| 5 | 4,50,000 | 1,80,000 |18,000\n",
    "\n"
   ]
  },
  {
   "cell_type": "markdown",
   "metadata": {
    "id": "zjED3Nv1M87S"
   },
   "source": [
    "**Policy Set 2**\n",
    "\n",
    "|Policy No.|  Policy Amount | Coverage | Premium  \n",
    "| --- | --- | --- | --- |\n",
    "| 6 | 9,00,000 | 4,00,000 | 30,000\n",
    "| 7 | 4,00,000 | 1,75,000 | 20,000\n",
    "| 8 | 1,50,000 | 60,000 | 10,000\n",
    "| 9 | 7,50,000 | 3,25,000 | 35,000\n",
    "| 10 | 3,50,000 | 1,50,000 | 25,000\n"
   ]
  },
  {
   "cell_type": "markdown",
   "metadata": {
    "id": "nlL1Nji-Kza5"
   },
   "source": [
    "**Policy Set 3**\n",
    "\n",
    "|Policy No.|  Policy Amount | Coverage | Premium  \n",
    "| --- | --- | --- | --- |\n",
    "| 11 | 12,00,000 | 5,40,000 | 30,000\n",
    "| 12| 14,00,000 | 6,50,000 | 40,000\n",
    "| 13 | 5,50,000 | 2,40,000 | 25,000\n",
    "| 14| 11,50,000 | 5,25,000 | 45,000\n",
    "| 15 | 6,50,000 | 2,60,000 | 30,000"
   ]
  },
  {
   "cell_type": "markdown",
   "metadata": {
    "id": "xyu9eYucK4JT"
   },
   "source": [
    "**Policy Set 4**\n",
    "\n",
    "|Policy No.|  Policy Amount | Coverage | Premium  \n",
    "| --- | --- | --- | --- |\n",
    "| 16 | 15,00,000 | 8,00,000 | 75,000\n",
    "| 17 | 20,00,000 | 10,00,000 | 80,000\n",
    "| 18 | 1,00,000 | 40,000 | 10,000\n",
    "| 19 | 9,50,000 | 4,25,000 | 45,000\n",
    "| 20 | 3,75,000 | 1,75,000 | 25,000"
   ]
  },
  {
   "cell_type": "markdown",
   "metadata": {
    "id": "AL-t0Y2SBO02"
   },
   "source": [
    "### Adjust Premium of users based on age and health factors"
   ]
  },
  {
   "cell_type": "code",
   "execution_count": null,
   "metadata": {
    "id": "kYjh4TgmwgwT"
   },
   "outputs": [],
   "source": [
    "def calculate_premium():\n",
    "  policy_amt1 = np.array([800000,1000000,200000,600000,450000])\n",
    "  policy_amt2 = np.array([900000,400000,150000,750000,350000])\n",
    "  policy_amt3 = np.array([1200000,1400000,550000,1150000,650000])\n",
    "  policy_amt4 = np.array([1500000,2000000,100000,950000,375000])\n",
    "  policy_coverage_1 = np.array([320000,500000,90000,250000,180000])\n",
    "  policy_coverage_2 = np.array([400000,175000,60000,325000,150000])\n",
    "  policy_coverage_3 = np.array([540000,650000,240000,525000,260000])\n",
    "  policy_coverage_4 = np.array([800000,1000000,40000,425000,175000])\n",
    "  premium_1 = np.array([25000,25000,20000,40000,18000])\n",
    "  premium_2 = np.array([30000,40000,10000,35000,25000])\n",
    "  premium_3 = np.array([30000, 40000,25000,45000,30000])\n",
    "  premium_4 = np.array([75000,80000,10000,45000,25000])\n",
    "  tenure_1 = np.zeros_like(premium_1)\n",
    "  tenure_2 = np.zeros_like(premium_2)\n",
    "  tenure_3 = np.zeros_like(premium_3)\n",
    "  tenure_4 = np.zeros_like(premium_4)\n",
    "  inputs, health = take_inputs()\n",
    "  t1 = 1000\n",
    "  t2 = 10000\n",
    "  if(health == 1):\n",
    "    premium_1 = np.ceil(premium_1*1.3/t1) * t1\n",
    "    premium_2 = np.ceil(premium_2*1.3/t1) * t1\n",
    "    premium_3 = np.ceil(premium_3*1.3/t1) * t1\n",
    "    premium_4 = np.ceil(premium_4*1.3/t1) * t1\n",
    "    policy_coverage_1 = np.ceil(policy_coverage_1/t2) * t2\n",
    "    policy_coverage_2 = np.ceil(policy_coverage_2/t2) * t2\n",
    "    policy_coverage_3 = np.ceil(policy_coverage_3/t2) * t2\n",
    "    policy_coverage_4 = np.ceil(policy_coverage_4/t2) * t2\n",
    "\n",
    "  if(inputs[2] == 3):\n",
    "    premium_1 = np.ceil(premium_1*0.75/t1) * t1\n",
    "    premium_2 = np.ceil(premium_2*0.75/t1) * t1\n",
    "    premium_3 = np.ceil(premium_3*0.75/t1) * t1\n",
    "    premium_4 = np.ceil(premium_4*0.75/t1) * t1\n",
    "    policy_coverage_1 = np.ceil(policy_coverage_1 * 1.1/t2) * t2\n",
    "    policy_coverage_2 = np.ceil(policy_coverage_2 * 1.1/t2) * t2\n",
    "    policy_coverage_3 = np.ceil(policy_coverage_3 * 1.1/t2) * t2\n",
    "    policy_coverage_4 = np.ceil(policy_coverage_4 * 1.1/t2) * t2\n",
    "  elif(inputs[2] == 0):\n",
    "    premium_1 = np.ceil(premium_1*1.0/t1) * t1\n",
    "    premium_2 = np.ceil(premium_2*1.0/t1) * t1\n",
    "    premium_3 = np.ceil(premium_3*1.0/t1) * t1\n",
    "    premium_4 = np.ceil(premium_4*1.0/t1) * t1\n",
    "    policy_coverage_1 = np.ceil(policy_coverage_1*1.0/t2) * t2\n",
    "    policy_coverage_2 = np.ceil(policy_coverage_2*1.0/t2) * t2\n",
    "    policy_coverage_3 = np.ceil(policy_coverage_3*1.0/t2) * t2\n",
    "    policy_coverage_4 = np.ceil(policy_coverage_4*1.0/t2) * t2\n",
    "  elif(inputs[2] == 1):\n",
    "    premium_1 = np.ceil(premium_1*1.2/t1) * t1\n",
    "    premium_2 = np.ceil(premium_2*1.2/t1) * t1\n",
    "    premium_3 = np.ceil(premium_3*1.2/t1) * t1\n",
    "    premium_4 = np.ceil(premium_4*1.2/t1) * t1\n",
    "    policy_coverage_1 = np.ceil(policy_coverage_1*0.9/t2) * t2\n",
    "    policy_coverage_2 = np.ceil(policy_coverage_2*0.9/t2) * t2\n",
    "    policy_coverage_3 = np.ceil(policy_coverage_3*0.9/t2) * t2\n",
    "    policy_coverage_4 = np.ceil(policy_coverage_4*0.9/t2) * t2\n",
    "  elif(inputs[2] == 2):\n",
    "    premium_1 = np.ceil(premium_1*1.4/t1) * t1\n",
    "    premium_2 = np.ceil(premium_2*1.4/t1) * t1\n",
    "    premium_3 = np.ceil(premium_3*1.4/t1) * t1\n",
    "    premium_4 = np.ceil(premium_4*1.4/t1) * t1\n",
    "    policy_coverage_1 = np.ceil(policy_coverage_1*0.75/t2) * t2\n",
    "    policy_coverage_2 = np.ceil(policy_coverage_2*0.75/t2) * t2\n",
    "    policy_coverage_3 = np.ceil(policy_coverage_3*0.75/t2) * t2\n",
    "    policy_coverage_4 = np.ceil(policy_coverage_4*0.75/t2) * t2\n",
    "  if(inputs[0] == 0):\n",
    "    premium_1 = np.ceil(premium_1*1.1/t1) * t1\n",
    "    premium_2 = np.ceil(premium_2*1.1/t1) * t1\n",
    "    premium_3 = np.ceil(premium_3*1.1/t1) * t1\n",
    "    premium_4 = np.ceil(premium_4*1.1/t1) * t1\n",
    "  elif(inputs[0] == 1):\n",
    "    premium_1 = np.ceil(premium_1*0.9/t1) * t1\n",
    "    premium_2 = np.ceil(premium_2*0.9/t1) * t1\n",
    "    premium_3 = np.ceil(premium_3*0.9/t1) * t1\n",
    "    premium_4 = np.ceil(premium_4*0.9/t1) * t1\n",
    "  tenure_1 = np.ceil(policy_amt1/premium_1)\n",
    "  tenure_2 = np.ceil(policy_amt2/premium_2)\n",
    "  tenure_3 = np.ceil(policy_amt3/premium_3)\n",
    "  tenure_4 = np.ceil(policy_amt4/premium_4)\n",
    "\n",
    "  return inputs, health, policy_amt1,policy_amt2,policy_amt3,policy_amt4, policy_coverage_1,policy_coverage_2,policy_coverage_3,policy_coverage_4,premium_1,premium_2,premium_3,premium_4,tenure_1,tenure_2,tenure_3,tenure_4"
   ]
  },
  {
   "cell_type": "markdown",
   "metadata": {
    "id": "UjjBNWMqBZ9y"
   },
   "source": [
    "### Model code for Prediction"
   ]
  },
  {
   "cell_type": "code",
   "execution_count": null,
   "metadata": {
    "id": "P4N-JP1O7Jjf"
   },
   "outputs": [],
   "source": [
    "def predict_rf(inputs):\n",
    "  clf = pickle.load(open('/content/RFClassifier.sav', 'rb'))\n",
    "  pred = clf.predict(inputs)\n",
    "  return pred"
   ]
  },
  {
   "cell_type": "code",
   "execution_count": null,
   "metadata": {
    "id": "XIyPFLkG7dye"
   },
   "outputs": [],
   "source": [
    "def bayesian_neural_network(inputs):\n",
    "  n_epochs = 25\n",
    "  X_test = np.array([inputs, inputs])\n",
    "  y_test = np.array([inputs, inputs])\n",
    "  test_set = tf.data.Dataset.from_tensor_slices((X_test, y_test))\n",
    "  test_set = test_set.shuffle(len(X_test), reshuffle_each_iteration=True)\n",
    "  testing_data = test_set.take(len(X_test)).batch(1).repeat(n_epochs)\n",
    "  samples = 2\n",
    "  iterations = 10 \n",
    "  test_iterator = tf.compat.v1.data.make_one_shot_iterator(testing_data)\n",
    "  X_true, Y_true, Y_pred = np.empty(shape=(samples, len(inputs))), np.empty(shape=(samples, len(inputs))), np.empty(shape=(samples, len(inputs), iterations))\n",
    "  for i in range(samples):\n",
    "    features, labels = test_iterator.get_next()\n",
    "    X_true[i,:] = features\n",
    "    Y_true[i,:] = labels.numpy()\n",
    "    for k in range(iterations):\n",
    "        Y_pred[i,:,k] = model.predict(features)\n",
    "    Y_pred_m = np.mean(Y_pred, axis=-1)\n",
    "    y_pred = np.round(Y_pred_m)\n",
    "    return y_pred[0]"
   ]
  },
  {
   "cell_type": "markdown",
   "metadata": {
    "id": "CQBchI-yBiC_"
   },
   "source": [
    "### Finally Predict and Recommend best policies"
   ]
  },
  {
   "cell_type": "code",
   "execution_count": null,
   "metadata": {
    "id": "peQ6lKpgZ4Pj"
   },
   "outputs": [],
   "source": [
    "def recommend_policy():\n",
    "  inputs, health, policy_amt1,policy_amt2,policy_amt3,policy_amt4, policy_coverage_1,policy_coverage_2,policy_coverage_3,policy_coverage_4,premium_1,premium_2,premium_3,premium_4,tenure_1,tenure_2,tenure_3,tenure_4= calculate_premium()\n",
    "  policy_recommendations = bayesian_neural_network(inputs)\n",
    "  print('Recommending Following Policies based on your preferences:')\n",
    "  print(policy_recommendations)\n",
    "  for i in range(0,5):\n",
    "    if(policy_recommendations[i] == 1):\n",
    "      if(inputs[2] == 1 or inputs[0] == 1):\n",
    "        j = i + 5\n",
    "        print('=======================')\n",
    "        print('Policy Number {}'.format(i))\n",
    "        print('Policy Amount: ₹{:,.2f}'.format(policy_amt1[i]))\n",
    "        print('Policy Coverage: ₹{:,.2f} + additional'.format(policy_coverage_1[i]))\n",
    "        print('Policy Premium: ₹{:,.2f}'.format(premium_1[i]))\n",
    "        print('Tenure: {} Years'.format(tenure_1[i]))\n",
    "        print('=======================')\n",
    "        print('Policy Number {}'.format(j))\n",
    "        print('Policy Amount: ₹{:,.2f}'.format(policy_amt2[i]))\n",
    "        print('Policy Coverage: ₹{:,.2f} + additional'.format(policy_coverage_2[i]))\n",
    "        print('Policy Premium: ₹{:,.2f}'.format(premium_2[i]))\n",
    "        print('Tenure: {} Years'.format(tenure_2[i]))\n",
    "      elif(inputs[2] == 3):\n",
    "        k = i + 10\n",
    "        l = i + 15\n",
    "        print('=======================')\n",
    "        print('Policy Number {}'.format(k))\n",
    "        print('Policy Amount: ₹{:,.2f}'.format(policy_amt3[i]))\n",
    "        print('Policy Coverage: ₹{:,.2f} + additional'.format(policy_coverage_3[i]))\n",
    "        print('Policy Premium: ₹{:,.2f}'.format(premium_3[i]))\n",
    "        print('Tenure: {} Years'.format(tenure_3[i]))\n",
    "        print('=======================')\n",
    "        print('Policy Number {}'.format(l))\n",
    "        print('Policy Amount: ₹{:,.2f}'.format(policy_amt4[i]))\n",
    "        print('Policy Coverage: ₹{:,.2f} + additional'.format(policy_coverage_4[i]))\n",
    "        print('Policy Premium: ₹{:,.2f}'.format(premium_4[i]))\n",
    "        print('Tenure: {} Years'.format(tenure_4[i]))\n",
    "      elif(inputs[2] == 2):\n",
    "        j = i + 5\n",
    "        print('=======================')\n",
    "        print('Policy Number {}'.format(i))\n",
    "        print('Policy Amount: ₹{:,.2f}'.format(policy_amt2[i]))\n",
    "        print('Policy Coverage: ₹{:,.2f} + additional'.format(policy_coverage_2[i]))\n",
    "        print('Policy Premium: ₹{:,.2f}'.format(premium_2[i]))\n",
    "        print('Tenure: {} Years'.format(tenure_2[i]))\n",
    "  if(inputs[2] == 2 and inputs[1] == 0):\n",
    "    print('=======================')\n",
    "    print('Policy Number {}'.format(10))\n",
    "    print('Policy Amount: ₹{:,.2f}'.format(policy_amt2[4]))\n",
    "    print('Policy Coverage: ₹{:,.2f} + additional'.format(policy_coverage_2[4]))\n",
    "    print('Policy Premium: ₹{:,.2f}'.format(premium_2[4]))\n",
    "    print('Tenure: {} Years'.format(tenure_2[4]))\n",
    "    print('=======================')\n",
    "    print('Policy Number {}'.format(20))\n",
    "    print('Policy Amount: ₹{:,.2f}'.format(policy_amt4[4]))\n",
    "    print('Policy Coverage: ₹{:,.2f} + additional'.format(policy_coverage_4[4]))\n",
    "    print('Policy Premium: ₹{:,.2f}'.format(premium_4[4]))\n",
    "    print('Tenure: {} Years'.format(tenure_4[4]))\n",
    "  if(all(policy_recommendations) == 0):\n",
    "    ch = [2,3,4]\n",
    "    select = random.choice(ch)\n",
    "    print('=======================')\n",
    "    print('Policy Number {}'.format(select))\n",
    "    print('Policy Amount: ₹{:,.2f}'.format(policy_amt1[select]))\n",
    "    print('Policy Coverage: ₹{:,.2f} + additional'.format(policy_coverage_1[select]))\n",
    "    print('Policy Premium: ₹{:,.2f}'.format(premium_1[select]))\n",
    "    print('Tenure: {} Years'.format(tenure_1[select]))\n",
    "    print('=======================')\n",
    "    select = random.choice(ch)\n",
    "    print('Policy Number {}'.format(select + 5))\n",
    "    print('Policy Amount: ₹{:,.2f}'.format(policy_amt2[select]))\n",
    "    print('Policy Coverage: ₹{:,.2f} + additional'.format(policy_coverage_2[select]))\n",
    "    print('Policy Premium: ₹{:,.2f}'.format(premium_2[select]))\n",
    "    print('Tenure: {} Years'.format(tenure_2[select]))\n",
    "    print('=======================')\n",
    "    select = random.choice(ch)\n",
    "    print('Policy Number {}'.format(select + 10))\n",
    "    print('Policy Amount: ₹{:,.2f}'.format(policy_amt3[select]))\n",
    "    print('Policy Coverage: ₹{:,.2f} + additional'.format(policy_coverage_3[select]))\n",
    "    print('Policy Premium: ₹{:,.2f}'.format(premium_3[select]))\n",
    "    print('Tenure: {} Years'.format(tenure_3[select]))"
   ]
  },
  {
   "cell_type": "code",
   "execution_count": null,
   "metadata": {
    "colab": {
     "base_uri": "https://localhost:8080/"
    },
    "id": "To9TdZt77tSp",
    "outputId": "318dc4d9-13c4-41e6-bd7c-5b215312043b"
   },
   "outputs": [
    {
     "name": "stdout",
     "output_type": "stream",
     "text": [
      "What is your Gender {Male/Female}\n",
      "Male\n",
      "What is your Marital Status {Married/Unmarried}\n",
      "Married\n",
      "What is your Age {Below 25 Years, 25-40 Years, 41-60 Years, Above 60 Years\n",
      "Above 60 Years\n",
      " What is your occupation{Corporate Employee, Enterpreneur, Medical Professional, Military Service, Self Employed}\n",
      "Corporate Employee\n",
      "What is your income {0-5 lac,10-20 lac,20-30 lac,30-40 lac,40-50 lac,5-10 lac}\n",
      "20-30 lac\n",
      "Did you have any Serious Medical ailment in past 2 years? {Yes/No}\n",
      "Yes\n",
      "Recommending Following Policies based on your preferences:\n",
      "[1. 1. 0. 0. 0.]\n",
      "=======================\n",
      "Policy Number 0\n",
      "Policy Amount: ₹900,000.00\n",
      "Policy Coverage: ₹300,000.00 + additional\n",
      "Policy Premium: ₹61,000.00\n",
      "Tenure: 15.0 Years\n",
      "=======================\n",
      "Policy Number 1\n",
      "Policy Amount: ₹400,000.00\n",
      "Policy Coverage: ₹140,000.00 + additional\n",
      "Policy Premium: ₹81,000.00\n",
      "Tenure: 5.0 Years\n",
      "=======================\n",
      "Policy Number 10\n",
      "Policy Amount: ₹350,000.00\n",
      "Policy Coverage: ₹120,000.00 + additional\n",
      "Policy Premium: ₹52,000.00\n",
      "Tenure: 7.0 Years\n",
      "=======================\n",
      "Policy Number 20\n",
      "Policy Amount: ₹375,000.00\n",
      "Policy Coverage: ₹140,000.00 + additional\n",
      "Policy Premium: ₹52,000.00\n",
      "Tenure: 8.0 Years\n",
      "=======================\n",
      "Policy Number 4\n",
      "Policy Amount: ₹450,000.00\n",
      "Policy Coverage: ₹140,000.00 + additional\n",
      "Policy Premium: ₹38,000.00\n",
      "Tenure: 12.0 Years\n",
      "=======================\n",
      "Policy Number 7\n",
      "Policy Amount: ₹150,000.00\n",
      "Policy Coverage: ₹50,000.00 + additional\n",
      "Policy Premium: ₹21,000.00\n",
      "Tenure: 8.0 Years\n",
      "=======================\n",
      "Policy Number 13\n",
      "Policy Amount: ₹1,150,000.00\n",
      "Policy Coverage: ₹400,000.00 + additional\n",
      "Policy Premium: ₹92,000.00\n",
      "Tenure: 13.0 Years\n"
     ]
    }
   ],
   "source": [
    "recommend_policy()"
   ]
  },
  {
   "cell_type": "code",
   "execution_count": null,
   "metadata": {
    "id": "A1K6olBcPSTG"
   },
   "outputs": [],
   "source": []
  }
 ],
 "metadata": {
  "colab": {
   "collapsed_sections": [],
   "name": "Insurance Recommender System - Model Deployment.ipynb",
   "provenance": []
  },
  "kernelspec": {
   "display_name": "Python 3 (ipykernel)",
   "language": "python",
   "name": "python3"
  },
  "language_info": {
   "codemirror_mode": {
    "name": "ipython",
    "version": 3
   },
   "file_extension": ".py",
   "mimetype": "text/x-python",
   "name": "python",
   "nbconvert_exporter": "python",
   "pygments_lexer": "ipython3",
   "version": "3.9.7"
  }
 },
 "nbformat": 4,
 "nbformat_minor": 1
}
